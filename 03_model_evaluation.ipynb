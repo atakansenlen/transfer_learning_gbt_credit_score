{
 "cells": [
  {
   "cell_type": "code",
   "execution_count": null,
   "metadata": {},
   "outputs": [],
   "source": [
    "import pandas as pd\n",
    "import numpy as np\n",
    "import seaborn as sns\n",
    "from scipy import stats \n",
    "import matplotlib.pyplot as plt\n",
    "import hvplot.pandas\n",
    "import pickle\n",
    "from sklearn.model_selection import GridSearchCV\n",
    "from sklearn.model_selection import StratifiedKFold\n",
    "from sklearn.model_selection import RandomizedSearchCV\n",
    "import xgboost as xgb \n",
    "import pandas as pd\n",
    "import numpy as np\n",
    "import seaborn as sns\n",
    "from scipy import stats \n",
    "import matplotlib.pyplot as plt\n",
    "import hvplot.pandas\n",
    "import pickle\n",
    "from sklearn.metrics.pairwise import cosine_similarity\n",
    "import numpy as np\n",
    "from sklearn.model_selection import train_test_split\n",
    "import wandb\n",
    "from wandb.xgboost import wandb_callback\n",
    "import wandb\n",
    "from wandb.integration.xgboost import WandbCallback"
   ]
  },
  {
   "cell_type": "code",
   "execution_count": null,
   "metadata": {},
   "outputs": [],
   "source": [
    "regression_data=pd.read_csv(r\"C:\\Users\\asenlen\\Desktop\\Projects\\tez\\modeller\\lending_club\\regression_data.csv\")\n",
    "regression_data.isnull().sum()\n",
    "regression_data.notnull().shape"
   ]
  },
  {
   "cell_type": "code",
   "execution_count": null,
   "metadata": {},
   "outputs": [],
   "source": [
    "regression_data=regression_data[regression_data['mort_acc'].notnull()]\n",
    "regression_data.shape\n",
    "regression_data.isnull().sum()"
   ]
  },
  {
   "cell_type": "code",
   "execution_count": null,
   "metadata": {},
   "outputs": [],
   "source": [
    "regression_data.shape"
   ]
  },
  {
   "cell_type": "code",
   "execution_count": null,
   "metadata": {},
   "outputs": [],
   "source": [
    "regression_data['loan_status'],loan_uniques=pd.factorize(regression_data['loan_status'], sort=True)\n",
    "regression_data['loan_status']=1-regression_data['loan_status'].astype(\"int\")\n",
    "regression_data['loan_status'].value_counts()"
   ]
  },
  {
   "cell_type": "code",
   "execution_count": null,
   "metadata": {},
   "outputs": [],
   "source": [
    "debt_consolidation_regression=regression_data[regression_data['purpose']=='debt_consolidation'].reset_index(drop=True)\n",
    "credit_card_regression=regression_data[regression_data['purpose']=='credit_card'].reset_index(drop=True)\n",
    "home_improvement_regression=regression_data[regression_data['purpose']=='home_improvement'].reset_index(drop=True)\n",
    "other_regression=regression_data[regression_data['purpose']=='other'].reset_index(drop=True)\n",
    "major_purchase_regression=regression_data[regression_data['purpose']=='major_purchase'].reset_index(drop=True)\n",
    "small_business_regression=regression_data[regression_data['purpose']=='small_business'].reset_index(drop=True)\n",
    "medical_regression=regression_data[regression_data['purpose']=='medical'].reset_index(drop=True)\n",
    "car_regression=regression_data[regression_data['purpose']=='car'].reset_index(drop=True)\n",
    "moving_regression=regression_data[regression_data['purpose']=='moving'].reset_index(drop=True)\n",
    "vacation_regression=regression_data[regression_data['purpose']=='vacation'].reset_index(drop=True)\n",
    "house_regression=regression_data[regression_data['purpose']=='house'].reset_index(drop=True)\n",
    "wedding=regression_data[regression_data['purpose']=='wedding'].reset_index(drop=True)\n",
    "renewable_energy_regression=regression_data[regression_data['purpose']=='renewable_energy'].reset_index(drop=True)\n",
    "educational_regression=regression_data[regression_data['purpose']=='educational'].reset_index(drop=True)"
   ]
  },
  {
   "cell_type": "code",
   "execution_count": null,
   "metadata": {},
   "outputs": [],
   "source": [
    "regression_data=None"
   ]
  },
  {
   "cell_type": "code",
   "execution_count": null,
   "metadata": {},
   "outputs": [],
   "source": [
    "#model denemeleri \n",
    "from sklearn.model_selection import train_test_split\n",
    "debt_consolidation_regression_train, debt_consolidation_regression_test = train_test_split(debt_consolidation_regression, test_size=0.20, random_state=42)\n",
    "credit_card_regression_train, credit_card_regression_test = train_test_split(credit_card_regression, test_size=0.20, random_state=42)\n",
    "home_improvement_regression_train, home_improvement_regression_test = train_test_split(home_improvement_regression, test_size=0.20, random_state=42)\n",
    "other_regression_train, other_regression_test = train_test_split(other_regression, test_size=0.20, random_state=42)\n",
    "major_purchase_regression_train, major_purchase_regression_test = train_test_split(major_purchase_regression, test_size=0.20, random_state=42)\n",
    "small_business_regression_train, small_business_regression_test = train_test_split(small_business_regression, test_size=0.20, random_state=42)\n",
    "medical_regression_train, medical_regression_test = train_test_split(medical_regression, test_size=0.20, random_state=42)\n",
    "car_regression_train, car_regression_test = train_test_split(car_regression, test_size=0.20, random_state=42)\n",
    "moving_regression_train, moving_regression_test = train_test_split(moving_regression, test_size=0.20, random_state=42)\n",
    "vacation_regression_train, vacation_regression_test = train_test_split(vacation_regression, test_size=0.20, random_state=42)\n",
    "house_regression_train, house_regression_test = train_test_split(house_regression, test_size=0.20, random_state=42)\n",
    "wedding_train, wedding_test = train_test_split(wedding, test_size=0.20, random_state=42)\n",
    "renewable_energy_regression_train, renewable_energy_regression_test = train_test_split(renewable_energy_regression, test_size=0.20, random_state=42)"
   ]
  },
  {
   "cell_type": "code",
   "execution_count": null,
   "metadata": {},
   "outputs": [],
   "source": [
    "debt_consolidation_regression_train_y,debt_consolidation_regression_train_x=debt_consolidation_regression_train['loan_status'],debt_consolidation_regression_train.drop(['purpose','loan_status'],axis=1)\n",
    "debt_consolidation_regression_test_y,debt_consolidation_regression_test_x=debt_consolidation_regression_test['loan_status'],debt_consolidation_regression_test.drop(['purpose','loan_status'],axis=1)\n",
    "\n",
    "credit_card_regression_train_y,credit_card_regression_train_x=credit_card_regression_train['loan_status'],credit_card_regression_train.drop(['purpose','loan_status'],axis=1)\n",
    "credit_card_regression_test_y,credit_card_regression_test_x=credit_card_regression_test['loan_status'],credit_card_regression_test.drop(['purpose','loan_status'],axis=1)\n",
    "\n",
    "home_improvement_regression_train_y,home_improvement_regression_train_x=home_improvement_regression_train['loan_status'],home_improvement_regression_train.drop(['purpose','loan_status'],axis=1)\n",
    "home_improvement_regression_test_y,home_improvement_regression_test_x=home_improvement_regression_test['loan_status'],home_improvement_regression_test.drop(['purpose','loan_status'],axis=1)\n",
    "\n",
    "other_regression_train_y,other_regression_train_x=other_regression_train['loan_status'],other_regression_train.drop(['purpose','loan_status'],axis=1)\n",
    "other_regression_test_y,other_regression_test_x=other_regression_test['loan_status'],other_regression_test.drop(['purpose','loan_status'],axis=1)\n",
    "\n",
    "major_purchase_regression_train_y,major_purchase_regression_train_x=major_purchase_regression_train['loan_status'],major_purchase_regression_train.drop(['purpose','loan_status'],axis=1)\n",
    "major_purchase_regression_test_y,major_purchase_regression_test_x=major_purchase_regression_test['loan_status'],major_purchase_regression_test.drop(['purpose','loan_status'],axis=1)\n",
    "\n",
    "small_business_regression_train_y,small_business_regression_train_x=small_business_regression_train['loan_status'],small_business_regression_train.drop(['purpose','loan_status'],axis=1)\n",
    "small_business_regression_test_y,small_business_regression_test_x=small_business_regression_test['loan_status'],small_business_regression_test.drop(['purpose','loan_status'],axis=1)\n",
    "\n",
    "medical_regression_train_y,medical_regression_train_x=medical_regression_train['loan_status'],medical_regression_train.drop(['purpose','loan_status'],axis=1)\n",
    "medical_regression_test_y,medical_regression_test_x=medical_regression_test['loan_status'],medical_regression_test.drop(['purpose','loan_status'],axis=1)\n",
    "\n",
    "car_regression_train_y,car_regression_train_x=car_regression_train['loan_status'],car_regression_train.drop(['purpose','loan_status'],axis=1)\n",
    "car_regression_test_y,car_regression_test_x=car_regression_test['loan_status'],car_regression_test.drop(['purpose','loan_status'],axis=1)\n",
    "\n",
    "moving_regression_train_y,moving_regression_train_x=moving_regression_train['loan_status'],moving_regression_train.drop(['purpose','loan_status'],axis=1)\n",
    "moving_regression_test_y,moving_regression_test_x=moving_regression_test['loan_status'],moving_regression_test.drop(['purpose','loan_status'],axis=1)\n",
    "\n",
    "vacation_regression_train_y,vacation_regression_train_x=vacation_regression_train['loan_status'],vacation_regression_train.drop(['purpose','loan_status'],axis=1)\n",
    "vacation_regression_test_y,vacation_regression_test_x=vacation_regression_test['loan_status'],vacation_regression_test.drop(['purpose','loan_status'],axis=1)\n",
    "\n",
    "house_regression_train_y,house_regression_train_x=house_regression_train['loan_status'],house_regression_train.drop(['purpose','loan_status'],axis=1)\n",
    "house_regression_test_y,house_regression_test_x=house_regression_test['loan_status'],house_regression_test.drop(['purpose','loan_status'],axis=1)\n",
    "\n",
    "wedding_train_y,wedding_train_x=wedding_train['loan_status'],wedding_train.drop(['purpose','loan_status'],axis=1)\n",
    "wedding_test_y,wedding_test_x=wedding_test['loan_status'],wedding_test.drop(['purpose','loan_status'],axis=1)\n",
    "\n",
    "renewable_energy_regression_train_y,renewable_energy_regression_train_x=renewable_energy_regression_train['loan_status'],renewable_energy_regression_train.drop(['purpose','loan_status'],axis=1)\n",
    "renewable_energy_regression_test_y,renewable_energy_regression_test_x=renewable_energy_regression_test['loan_status'],renewable_energy_regression_test.drop(['purpose','loan_status'],axis=1)"
   ]
  },
  {
   "cell_type": "code",
   "execution_count": null,
   "metadata": {},
   "outputs": [],
   "source": [
    "debt_consolidation_regression_test_x.shape"
   ]
  },
  {
   "cell_type": "code",
   "execution_count": null,
   "metadata": {},
   "outputs": [],
   "source": [
    "source_params={'subsample': 1.0,\n",
    " 'n_estimators': 30,\n",
    " 'max_depth': 6,\n",
    " 'eta': 0.14285714285714285,\n",
    " 'alpha': 0.07999999999999999}"
   ]
  },
  {
   "cell_type": "code",
   "execution_count": null,
   "metadata": {},
   "outputs": [],
   "source": [
    "source_tl={'subsample': 1.0,\n",
    " 'max_depth': 6,\n",
    " 'eta': 0.14285714285714285,\n",
    " 'alpha': 0.07999999999999999}"
   ]
  },
  {
   "cell_type": "code",
   "execution_count": null,
   "metadata": {},
   "outputs": [],
   "source": [
    "def multiround_revising(num_rounds,source_params,x_source,y_source,x_target,y_target,min_split_loss=1,min_child_weight=5):\n",
    "    dtrain_target=xgb.DMatrix(x_target, y_target)\n",
    "    for i in range(num_rounds):\n",
    "        if i==0:\n",
    "            print(i,\"...epoch for creating first source tree\")\n",
    "            source_model=xgb.XGBClassifier(**source_params,n_estimators=1)\n",
    "            source_model.fit(x_source,y_source)\n",
    "            print(f\"tree_shape is:{source_model.get_booster()[i].trees_to_dataframe().shape}\")\n",
    "        else:\n",
    "            print(i, f\"...epoch for creating {i+1}th source tree\")\n",
    "            source_model.fit(x_source,y_source,xgb_model=pruned_trees)\n",
    "            print(f\"tree_shape is:{source_model.get_booster()[i].trees_to_dataframe().shape}\")\n",
    "\n",
    "        refreshed_trees=xgb.train({\"process_type\": \"update\", \"updater\": \"refresh\", \"refresh_leaf\": True},\n",
    "        dtrain=dtrain_target,num_boost_round=i+1,xgb_model=source_model.get_booster())\n",
    "        print(f\"...epoch {i+1}, trees are re-weighted\",f\"tree_shape is:{refreshed_trees[i].trees_to_dataframe().shape}\")\n",
    "        pruned_trees = xgb.train(\n",
    "        {\"process_type\": \"update\", \"updater\": \"prune\",\"min_split_loss\":min_split_loss,\"min_child_weight\":min_child_weight},\n",
    "        dtrain=dtrain_target,\n",
    "        num_boost_round=i+1,\n",
    "        xgb_model=refreshed_trees)\n",
    "        print(f\"...epoch {i+1}, trees are pruned\",f\"tree_shape is:{pruned_trees[i].trees_to_dataframe().shape}\")        \n",
    "    return pruned_trees"
   ]
  },
  {
   "cell_type": "code",
   "execution_count": null,
   "metadata": {},
   "outputs": [],
   "source": [
    "def fit_my_xgb_tl_with_update(parameters_path,x_train,y_train,x_test,y_test,source_model,path,outside_params=None):\n",
    "    # Open the file in binary mode\n",
    "    with open(parameters_path, 'rb') as file:\n",
    "    # Call load method to deserialze\n",
    "        myvar = pickle.load(file)\n",
    "    wandb.init(project=\"transfer learning\", entity=\"otukenotuk\",config=myvar.best_params_,name=parameters_path,settings=wandb.Settings(start_method='thread'))\n",
    "    if outside_params is not None:\n",
    "        xgb_params={**myvar.best_params_,**outside_params}\n",
    "    else:\n",
    "        xgb_params=myvar.best_params_\n",
    "    model=xgb.XGBClassifier(**xgb_params,eval_metric=[\"auc\",\"logloss\",\"aucpr\"],early_stopping_rounds=20)\n",
    "    model.fit(x_train,\n",
    "    y_train,\n",
    "    eval_set=[(x_train,y_train),\n",
    "    (x_test,y_test)],callbacks=[WandbCallback()],xgb_model=source_model)\n",
    "    wandb.finish()\n",
    "    with open(path, 'wb') as file:\n",
    "    # A new file will be created\n",
    "        pickle.dump(model, file)\n",
    "    return model"
   ]
  },
  {
   "cell_type": "code",
   "execution_count": null,
   "metadata": {},
   "outputs": [],
   "source": [
    "multiround_revised_moving=multiround_revising(30,source_tl,debt_consolidation_regression_train_x,debt_consolidation_regression_train_y,moving_regression_train_x, moving_regression_train_y,min_split_loss=1,min_child_weight=5)\n",
    "moving_tl_with_update=fit_my_xgb_tl_with_update(\"results_tl_update/moving_tl_model.pkl\",moving_regression_train_x,moving_regression_train_y,moving_regression_test_x,moving_regression_test_y,source_model=multiround_revised_moving,path=\"models_tl_update/moving_tl_model.pkl\",outside_params={\"n_estimators\":80})"
   ]
  },
  {
   "cell_type": "code",
   "execution_count": null,
   "metadata": {},
   "outputs": [],
   "source": [
    "multiround_revised_moving=multiround_revising(30,source_tl,debt_consolidation_regression_train_x,debt_consolidation_regression_train_y,moving_regression_train_x, moving_regression_train_y,min_split_loss=0.001,min_child_weight=2)\n",
    "moving_tl_with_update=fit_my_xgb_tl_with_update(\"results_tl_update/moving_tl_model.pkl\",moving_regression_train_x,moving_regression_train_y,moving_regression_test_x,moving_regression_test_y,source_model=multiround_revised_moving,path=\"models_tl_update/moving_tl_model.pkl\",outside_params={\"n_estimators\":80})"
   ]
  },
  {
   "cell_type": "code",
   "execution_count": null,
   "metadata": {},
   "outputs": [],
   "source": [
    "multiround_revised_vacation=multiround_revising(30,source_tl,debt_consolidation_regression_train_x,debt_consolidation_regression_train_y,vacation_regression_train_x, vacation_regression_train_y,min_split_loss=0.001,min_child_weight=2)\n",
    "vacation_tl_with_update=fit_my_xgb_tl_with_update(\"results_tl_update/vacation_tl_model.pkl\",vacation_regression_train_x,vacation_regression_train_y,vacation_regression_test_x,vacation_regression_test_y,source_model=multiround_revised_vacation,path=\"models_tl_update/vacation_tl_model.pkl\",outside_params={\"n_estimators\":80})"
   ]
  },
  {
   "cell_type": "code",
   "execution_count": null,
   "metadata": {},
   "outputs": [],
   "source": [
    "multiround_revised_vacation=multiround_revising(30,source_tl,debt_consolidation_regression_train_x,debt_consolidation_regression_train_y,vacation_regression_train_x, vacation_regression_train_y,min_split_loss=0.1,min_child_weight=2)\n",
    "vacation_tl_with_update=fit_my_xgb_tl_with_update(\"results_tl_update/vacation_tl_model.pkl\",vacation_regression_train_x,vacation_regression_train_y,vacation_regression_test_x,vacation_regression_test_y,source_model=multiround_revised_vacation,path=\"models_tl_update/vacation_tl_model.pkl\",outside_params={\"n_estimators\":150})"
   ]
  },
  {
   "cell_type": "code",
   "execution_count": null,
   "metadata": {},
   "outputs": [],
   "source": [
    "multiround_revised_vacation=multiround_revising(30,source_tl,debt_consolidation_regression_train_x,debt_consolidation_regression_train_y,vacation_regression_train_x, vacation_regression_train_y,min_split_loss=1,min_child_weight=2)\n",
    "vacation_tl_with_update=fit_my_xgb_tl_with_update(\"results_tl_update/vacation_tl_model.pkl\",vacation_regression_train_x,vacation_regression_train_y,vacation_regression_test_x,vacation_regression_test_y,source_model=multiround_revised_vacation,path=\"models_tl_update/vacation_tl_model.pkl\",outside_params={\"n_estimators\":150})"
   ]
  },
  {
   "cell_type": "code",
   "execution_count": null,
   "metadata": {},
   "outputs": [],
   "source": [
    "multiround_revised_house=multiround_revising(30,source_tl,debt_consolidation_regression_train_x,debt_consolidation_regression_train_y,house_regression_train_x, house_regression_train_y,min_split_loss=0.001,min_child_weight=2)\n",
    "house_tl_with_update=fit_my_xgb_tl_with_update(\"results_tl_update/house_tl_model.pkl\",house_regression_train_x,house_regression_train_y,house_regression_test_x,house_regression_test_y,source_model=multiround_revised_house,path=\"models_tl_update/house_tl_model.pkl\",outside_params={\"n_estimators\":80})"
   ]
  },
  {
   "cell_type": "code",
   "execution_count": null,
   "metadata": {},
   "outputs": [],
   "source": [
    "multiround_revised_house=multiround_revising(30,source_tl,debt_consolidation_regression_train_x,debt_consolidation_regression_train_y,house_regression_train_x, house_regression_train_y,min_split_loss=0.1,min_child_weight=1)\n",
    "house_tl_with_update=fit_my_xgb_tl_with_update(\"results_tl_update/house_tl_model.pkl\",house_regression_train_x,house_regression_train_y,house_regression_test_x,house_regression_test_y,source_model=multiround_revised_house,path=\"models_tl_update/house_tl_model.pkl\",outside_params={\"n_estimators\":80})"
   ]
  },
  {
   "cell_type": "code",
   "execution_count": null,
   "metadata": {},
   "outputs": [],
   "source": [
    "multiround_revised_house=multiround_revising(30,source_tl,debt_consolidation_regression_train_x,debt_consolidation_regression_train_y,house_regression_train_x, house_regression_train_y,min_split_loss=0.00000001,min_child_weight=1)\n",
    "house_tl_with_update=fit_my_xgb_tl_with_update(\"results_tl_update/house_tl_model.pkl\",house_regression_train_x,house_regression_train_y,house_regression_test_x,house_regression_test_y,source_model=multiround_revised_house,path=\"models_tl_update/house_tl_model.pkl\",outside_params={\"n_estimators\":80})"
   ]
  },
  {
   "cell_type": "code",
   "execution_count": null,
   "metadata": {},
   "outputs": [],
   "source": [
    "multiround_revised_house=multiround_revising(30,source_tl,debt_consolidation_regression_train_x,debt_consolidation_regression_train_y,house_regression_train_x, house_regression_train_y,min_split_loss=0.00000001,min_child_weight=0)\n",
    "house_tl_with_update=fit_my_xgb_tl_with_update(\"results_tl_update/house_tl_model.pkl\",house_regression_train_x,house_regression_train_y,house_regression_test_x,house_regression_test_y,source_model=multiround_revised_house,path=\"models_tl_update/house_tl_model.pkl\",outside_params={\"n_estimators\":80})"
   ]
  },
  {
   "cell_type": "code",
   "execution_count": null,
   "metadata": {},
   "outputs": [],
   "source": [
    "multiround_revised_wedding=multiround_revising(30,source_tl,debt_consolidation_regression_train_x,debt_consolidation_regression_train_y,wedding_train_x, wedding_train_y,min_split_loss=0.001,min_child_weight=2)\n",
    "wedding_tl_with_update=fit_my_xgb_tl_with_update(\"results_tl_update/wedding_tl_model.pkl\",wedding_train_x,wedding_train_y,wedding_test_x,wedding_test_y,source_model=multiround_revised_wedding,path=\"models_tl_update/wedding_tl_model.pkl\",outside_params={\"n_estimators\":80})"
   ]
  },
  {
   "cell_type": "code",
   "execution_count": null,
   "metadata": {},
   "outputs": [],
   "source": [
    "multiround_revised_wedding=multiround_revising(30,source_tl,debt_consolidation_regression_train_x,debt_consolidation_regression_train_y,wedding_train_x, wedding_train_y,min_split_loss=0.00000001,min_child_weight=0)\n",
    "wedding_tl_with_update=fit_my_xgb_tl_with_update(\"results_tl_update/wedding_tl_model.pkl\",wedding_train_x,wedding_train_y,wedding_test_x,wedding_test_y,source_model=multiround_revised_wedding,path=\"models_tl_update/wedding_tl_model.pkl\",outside_params={\"n_estimators\":80})"
   ]
  },
  {
   "cell_type": "code",
   "execution_count": null,
   "metadata": {},
   "outputs": [],
   "source": [
    "multiround_revised_wedding=multiround_revising(30,source_tl,debt_consolidation_regression_train_x,debt_consolidation_regression_train_y,wedding_train_x, wedding_train_y,min_split_loss=0.00000001,min_child_weight=1)\n",
    "wedding_tl_with_update=fit_my_xgb_tl_with_update(\"results_tl_update/wedding_tl_model.pkl\",wedding_train_x,wedding_train_y,wedding_test_x,wedding_test_y,source_model=multiround_revised_wedding,path=\"models_tl_update/wedding_tl_model.pkl\",outside_params={\"n_estimators\":80})"
   ]
  },
  {
   "cell_type": "code",
   "execution_count": null,
   "metadata": {},
   "outputs": [],
   "source": [
    "multiround_revised_wedding=multiround_revising(30,source_tl,debt_consolidation_regression_train_x,debt_consolidation_regression_train_y,wedding_train_x, wedding_train_y,min_split_loss=0.3,min_child_weight=1)\n",
    "wedding_tl_with_update=fit_my_xgb_tl_with_update(\"results_tl_update/wedding_tl_model.pkl\",wedding_train_x,wedding_train_y,wedding_test_x,wedding_test_y,source_model=multiround_revised_wedding,path=\"models_tl_update/wedding_tl_model.pkl\",outside_params={\"n_estimators\":80})"
   ]
  },
  {
   "cell_type": "code",
   "execution_count": null,
   "metadata": {},
   "outputs": [],
   "source": [
    "multiround_revised_wedding=multiround_revising(30,source_tl,debt_consolidation_regression_train_x,debt_consolidation_regression_train_y,wedding_train_x, wedding_train_y,min_split_loss=1,min_child_weight=1)\n",
    "wedding_tl_with_update=fit_my_xgb_tl_with_update(\"results_tl_update/wedding_tl_model.pkl\",wedding_train_x,wedding_train_y,wedding_test_x,wedding_test_y,source_model=multiround_revised_wedding,path=\"models_tl_update/wedding_tl_model.pkl\",outside_params={\"n_estimators\":80})"
   ]
  },
  {
   "cell_type": "code",
   "execution_count": null,
   "metadata": {},
   "outputs": [],
   "source": [
    "multiround_revised_car=multiround_revising(30,source_tl,debt_consolidation_regression_train_x,debt_consolidation_regression_train_y,car_regression_train_x, car_regression_train_y,min_split_loss=0.00000001,min_child_weight=1)\n",
    "car_tl_with_update=fit_my_xgb_tl_with_update(\"results_tl_update/car_tl_model.pkl\",car_regression_train_x,car_regression_train_y,car_regression_test_x,car_regression_test_y,source_model=multiround_revised_car,path=\"models_tl_update/car_tl_model.pkl\",outside_params={\"n_estimators\":80})"
   ]
  },
  {
   "cell_type": "code",
   "execution_count": null,
   "metadata": {},
   "outputs": [],
   "source": [
    "multiround_revised_car=multiround_revising(30,source_tl,debt_consolidation_regression_train_x,debt_consolidation_regression_train_y,car_regression_train_x, car_regression_train_y,min_split_loss=0.001,min_child_weight=1)\n",
    "car_tl_with_update=fit_my_xgb_tl_with_update(\"results_tl_update/car_tl_model.pkl\",car_regression_train_x,car_regression_train_y,car_regression_test_x,car_regression_test_y,source_model=multiround_revised_car,path=\"models_tl_update/car_tl_model.pkl\",outside_params={\"n_estimators\":80})"
   ]
  },
  {
   "cell_type": "code",
   "execution_count": null,
   "metadata": {},
   "outputs": [],
   "source": [
    "multiround_revised_car=multiround_revising(30,source_tl,debt_consolidation_regression_train_x,debt_consolidation_regression_train_y,car_regression_train_x, car_regression_train_y,min_split_loss=0.03,min_child_weight=1)\n",
    "car_tl_with_update=fit_my_xgb_tl_with_update(\"results_tl_update/car_tl_model.pkl\",car_regression_train_x,car_regression_train_y,car_regression_test_x,car_regression_test_y,source_model=multiround_revised_car,path=\"models_tl_update/car_tl_model.pkl\",outside_params={\"n_estimators\":80})"
   ]
  },
  {
   "cell_type": "code",
   "execution_count": null,
   "metadata": {},
   "outputs": [],
   "source": [
    "multiround_revised_small_business=multiround_revising(30,source_tl,debt_consolidation_regression_train_x,debt_consolidation_regression_train_y,small_business_regression_train_x, small_business_regression_train_y,min_split_loss=0.00000001,min_child_weight=1)\n",
    "small_business_tl_with_update=fit_my_xgb_tl_with_update(\"results_tl_update/small_business_tl_model.pkl\",small_business_regression_train_x,small_business_regression_train_y,small_business_regression_test_x,small_business_regression_test_y,source_model=multiround_revised_small_business,path=\"models_tl_update/small_business_tl_model.pkl\",outside_params={\"n_estimators\":80})"
   ]
  },
  {
   "cell_type": "code",
   "execution_count": null,
   "metadata": {},
   "outputs": [],
   "source": [
    "multiround_revised_small_business=multiround_revising(30,source_tl,debt_consolidation_regression_train_x,debt_consolidation_regression_train_y,small_business_regression_train_x, small_business_regression_train_y,min_split_loss0.0001=,min_child_weight=1)\n",
    "small_business_tl_with_update=fit_my_xgb_tl_with_update(\"results_tl_update/small_business_tl_model.pkl\",small_business_regression_train_x,small_business_regression_train_y,small_business_regression_test_x,small_business_regression_test_y,source_model=multiround_revised_small_business,path=\"models_tl_update/small_business_tl_model.pkl\",outside_params={\"n_estimators\":80})"
   ]
  },
  {
   "cell_type": "code",
   "execution_count": null,
   "metadata": {},
   "outputs": [],
   "source": [
    "multiround_revised_medical=multiround_revising(30,source_tl,debt_consolidation_regression_train_x,debt_consolidation_regression_train_y,medical_regression_train_x, medical_regression_train_y,min_split_loss=0.00000001,min_child_weight=1)\n",
    "medical_tl_with_update=fit_my_xgb_tl_with_update(\"results_tl_update/medical_tl_model.pkl\",medical_regression_train_x,medical_regression_train_y,medical_regression_test_x,medical_regression_test_y,source_model=multiround_revised_medical,path=\"models_tl_update/medical_tl_model.pkl\",outside_params={\"n_estimators\":80})"
   ]
  },
  {
   "cell_type": "code",
   "execution_count": null,
   "metadata": {},
   "outputs": [],
   "source": [
    "multiround_revised_medical=multiround_revising(30,source_tl,debt_consolidation_regression_train_x,debt_consolidation_regression_train_y,medical_regression_train_x, medical_regression_train_y,min_split_loss=0.00001,min_child_weight=1)\n",
    "medical_tl_with_update=fit_my_xgb_tl_with_update(\"results_tl_update/medical_tl_model.pkl\",medical_regression_train_x,medical_regression_train_y,medical_regression_test_x,medical_regression_test_y,source_model=multiround_revised_medical,path=\"models_tl_update/medical_tl_model.pkl\",outside_params={\"n_estimators\":80})"
   ]
  },
  {
   "cell_type": "code",
   "execution_count": null,
   "metadata": {},
   "outputs": [],
   "source": [
    "multiround_revised_medical=multiround_revising(30,source_tl,debt_consolidation_regression_train_x,debt_consolidation_regression_train_y,medical_regression_train_x, medical_regression_train_y,min_split_loss=0.0001,min_child_weight=1)\n",
    "medical_tl_with_update=fit_my_xgb_tl_with_update(\"results_tl_update/medical_tl_model.pkl\",medical_regression_train_x,medical_regression_train_y,medical_regression_test_x,medical_regression_test_y,source_model=multiround_revised_medical,path=\"models_tl_update/medical_tl_model.pkl\",outside_params={\"n_estimators\":80})"
   ]
  },
  {
   "cell_type": "code",
   "execution_count": null,
   "metadata": {},
   "outputs": [],
   "source": [
    "multiround_revised_medical=multiround_revising(30,source_tl,debt_consolidation_regression_train_x,debt_consolidation_regression_train_y,medical_regression_train_x, medical_regression_train_y,min_split_loss=0.001,min_child_weight=1)\n",
    "medical_tl_with_update=fit_my_xgb_tl_with_update(\"results_tl_update/medical_tl_model.pkl\",medical_regression_train_x,medical_regression_train_y,medical_regression_test_x,medical_regression_test_y,source_model=multiround_revised_medical,path=\"models_tl_update/medical_tl_model.pkl\",outside_params={\"n_estimators\":80})"
   ]
  },
  {
   "cell_type": "code",
   "execution_count": null,
   "metadata": {},
   "outputs": [],
   "source": [
    "multiround_revised_medical=multiround_revising(30,source_tl,debt_consolidation_regression_train_x,debt_consolidation_regression_train_y,medical_regression_train_x, medical_regression_train_y,min_split_loss=0.01,min_child_weight=1)\n",
    "medical_tl_with_update=fit_my_xgb_tl_with_update(\"results_tl_update/medical_tl_model.pkl\",medical_regression_train_x,medical_regression_train_y,medical_regression_test_x,medical_regression_test_y,source_model=multiround_revised_medical,path=\"models_tl_update/medical_tl_model.pkl\",outside_params={\"n_estimators\":80})"
   ]
  },
  {
   "cell_type": "code",
   "execution_count": null,
   "metadata": {},
   "outputs": [],
   "source": [
    "multiround_revised_medical=multiround_revising(30,source_tl,debt_consolidation_regression_train_x,debt_consolidation_regression_train_y,medical_regression_train_x, medical_regression_train_y,min_split_loss=0.1,min_child_weight=1)\n",
    "medical_tl_with_update=fit_my_xgb_tl_with_update(\"results_tl_update/medical_tl_model.pkl\",medical_regression_train_x,medical_regression_train_y,medical_regression_test_x,medical_regression_test_y,source_model=multiround_revised_medical,path=\"models_tl_update/medical_tl_model.pkl\",outside_params={\"n_estimators\":80})"
   ]
  },
  {
   "cell_type": "code",
   "execution_count": null,
   "metadata": {},
   "outputs": [],
   "source": [
    "multiround_revised_medical=multiround_revising(30,source_tl,debt_consolidation_regression_train_x,debt_consolidation_regression_train_y,medical_regression_train_x, medical_regression_train_y,min_split_loss=1,min_child_weight=1)\n",
    "medical_tl_with_update=fit_my_xgb_tl_with_update(\"results_tl_update/medical_tl_model.pkl\",medical_regression_train_x,medical_regression_train_y,medical_regression_test_x,medical_regression_test_y,source_model=multiround_revised_medical,path=\"models_tl_update/medical_tl_model.pkl\",outside_params={\"n_estimators\":80})"
   ]
  },
  {
   "cell_type": "code",
   "execution_count": null,
   "metadata": {},
   "outputs": [],
   "source": [
    "multiround_revised_medical=multiround_revising(30,source_tl,debt_consolidation_regression_train_x,debt_consolidation_regression_train_y,medical_regression_train_x, medical_regression_train_y,min_split_loss=2,min_child_weight=1)\n",
    "medical_tl_with_update=fit_my_xgb_tl_with_update(\"results_tl_update/medical_tl_model.pkl\",medical_regression_train_x,medical_regression_train_y,medical_regression_test_x,medical_regression_test_y,source_model=multiround_revised_medical,path=\"models_tl_update/medical_tl_model.pkl\",outside_params={\"n_estimators\":80})"
   ]
  },
  {
   "cell_type": "code",
   "execution_count": null,
   "metadata": {},
   "outputs": [],
   "source": [
    "multiround_revised_medical=multiround_revising(30,source_tl,debt_consolidation_regression_train_x,debt_consolidation_regression_train_y,medical_regression_train_x, medical_regression_train_y,min_split_loss=4,min_child_weight=1)\n",
    "medical_tl_with_update=fit_my_xgb_tl_with_update(\"results_tl_update/medical_tl_model.pkl\",medical_regression_train_x,medical_regression_train_y,medical_regression_test_x,medical_regression_test_y,source_model=multiround_revised_medical,path=\"models_tl_update/medical_tl_model.pkl\",outside_params={\"n_estimators\":80})"
   ]
  },
  {
   "cell_type": "code",
   "execution_count": null,
   "metadata": {},
   "outputs": [],
   "source": [
    "multiround_revised_major_purchase=multiround_revising(30,source_tl,debt_consolidation_regression_train_x,debt_consolidation_regression_train_y,major_purchase_regression_train_x, major_purchase_regression_train_y,min_split_loss=0.00000001,min_child_weight=1)\n",
    "major_purchase_tl_with_update=fit_my_xgb_tl_with_update(\"results_tl_update/major_purchase_tl_model.pkl\",major_purchase_regression_train_x,major_purchase_regression_train_y,major_purchase_regression_test_x,major_purchase_regression_test_y,source_model=multiround_revised_major_purchase,path=\"models_tl_update/major_purchase_tl_model.pkl\",outside_params={\"n_estimators\":80})"
   ]
  },
  {
   "cell_type": "code",
   "execution_count": null,
   "metadata": {},
   "outputs": [],
   "source": [
    "multiround_revised_major_purchase=multiround_revising(30,source_tl,debt_consolidation_regression_train_x,debt_consolidation_regression_train_y,major_purchase_regression_train_x, major_purchase_regression_train_y,min_split_loss=0.000001,min_child_weight=1)\n",
    "major_purchase_tl_with_update=fit_my_xgb_tl_with_update(\"results_tl_update/major_purchase_tl_model.pkl\",major_purchase_regression_train_x,major_purchase_regression_train_y,major_purchase_regression_test_x,major_purchase_regression_test_y,source_model=multiround_revised_major_purchase,path=\"models_tl_update/major_purchase_tl_model.pkl\",outside_params={\"n_estimators\":80})"
   ]
  },
  {
   "cell_type": "code",
   "execution_count": null,
   "metadata": {},
   "outputs": [],
   "source": [
    "multiround_revised_major_purchase=multiround_revising(30,source_tl,debt_consolidation_regression_train_x,debt_consolidation_regression_train_y,major_purchase_regression_train_x, major_purchase_regression_train_y,min_split_loss=0.0001,min_child_weight=1)\n",
    "major_purchase_tl_with_update=fit_my_xgb_tl_with_update(\"results_tl_update/major_purchase_tl_model.pkl\",major_purchase_regression_train_x,major_purchase_regression_train_y,major_purchase_regression_test_x,major_purchase_regression_test_y,source_model=multiround_revised_major_purchase,path=\"models_tl_update/major_purchase_tl_model.pkl\",outside_params={\"n_estimators\":80})"
   ]
  },
  {
   "cell_type": "code",
   "execution_count": null,
   "metadata": {},
   "outputs": [],
   "source": [
    "multiround_revised_major_purchase=multiround_revising(30,source_tl,debt_consolidation_regression_train_x,debt_consolidation_regression_train_y,major_purchase_regression_train_x, major_purchase_regression_train_y,min_split_loss=0.01,min_child_weight=1)\n",
    "major_purchase_tl_with_update=fit_my_xgb_tl_with_update(\"results_tl_update/major_purchase_tl_model.pkl\",major_purchase_regression_train_x,major_purchase_regression_train_y,major_purchase_regression_test_x,major_purchase_regression_test_y,source_model=multiround_revised_major_purchase,path=\"models_tl_update/major_purchase_tl_model.pkl\",outside_params={\"n_estimators\":80})"
   ]
  },
  {
   "cell_type": "code",
   "execution_count": null,
   "metadata": {},
   "outputs": [],
   "source": [
    "multiround_revised_major_purchase=multiround_revising(30,source_tl,debt_consolidation_regression_train_x,debt_consolidation_regression_train_y,major_purchase_regression_train_x, major_purchase_regression_train_y,min_split_loss=0.1,min_child_weight=1)\n",
    "major_purchase_tl_with_update=fit_my_xgb_tl_with_update(\"results_tl_update/major_purchase_tl_model.pkl\",major_purchase_regression_train_x,major_purchase_regression_train_y,major_purchase_regression_test_x,major_purchase_regression_test_y,source_model=multiround_revised_major_purchase,path=\"models_tl_update/major_purchase_tl_model.pkl\",outside_params={\"n_estimators\":80})"
   ]
  },
  {
   "cell_type": "code",
   "execution_count": null,
   "metadata": {},
   "outputs": [],
   "source": [
    "multiround_revised_major_purchase=multiround_revising(30,source_tl,debt_consolidation_regression_train_x,debt_consolidation_regression_train_y,major_purchase_regression_train_x, major_purchase_regression_train_y,min_split_loss=2,min_child_weight=1)\n",
    "major_purchase_tl_with_update=fit_my_xgb_tl_with_update(\"results_tl_update/major_purchase_tl_model.pkl\",major_purchase_regression_train_x,major_purchase_regression_train_y,major_purchase_regression_test_x,major_purchase_regression_test_y,source_model=multiround_revised_major_purchase,path=\"models_tl_update/major_purchase_tl_model.pkl\",outside_params={\"n_estimators\":80})"
   ]
  },
  {
   "cell_type": "code",
   "execution_count": null,
   "metadata": {},
   "outputs": [],
   "source": [
    "multiround_revised_major_purchase=multiround_revising(30,source_tl,debt_consolidation_regression_train_x,debt_consolidation_regression_train_y,major_purchase_regression_train_x, major_purchase_regression_train_y,min_split_loss=5,min_child_weight=1)\n",
    "major_purchase_tl_with_update=fit_my_xgb_tl_with_update(\"results_tl_update/major_purchase_tl_model.pkl\",major_purchase_regression_train_x,major_purchase_regression_train_y,major_purchase_regression_test_x,major_purchase_regression_test_y,source_model=multiround_revised_major_purchase,path=\"models_tl_update/major_purchase_tl_model.pkl\",outside_params={\"n_estimators\":80})"
   ]
  },
  {
   "cell_type": "code",
   "execution_count": null,
   "metadata": {},
   "outputs": [],
   "source": [
    "multiround_revised_other=multiround_revising(30,source_tl,debt_consolidation_regression_train_x,debt_consolidation_regression_train_y,other_regression_train_x, other_regression_train_y,min_split_loss=0.00000001,min_child_weight=1)\n",
    "other_tl_with_update=fit_my_xgb_tl_with_update(\"results_tl_update/other_tl_model.pkl\",other_regression_train_x,other_regression_train_y,other_regression_test_x,other_regression_test_y,source_model=multiround_revised_other,path=\"models_tl_update/other_tl_model.pkl\",outside_params={\"n_estimators\":150})"
   ]
  },
  {
   "cell_type": "code",
   "execution_count": null,
   "metadata": {},
   "outputs": [],
   "source": [
    "multiround_revised_other=multiround_revising(30,source_tl,debt_consolidation_regression_train_x,debt_consolidation_regression_train_y,other_regression_train_x, other_regression_train_y,min_split_loss=0.000001,min_child_weight=1)\n",
    "other_tl_with_update=fit_my_xgb_tl_with_update(\"results_tl_update/other_tl_model.pkl\",other_regression_train_x,other_regression_train_y,other_regression_test_x,other_regression_test_y,source_model=multiround_revised_other,path=\"models_tl_update/other_tl_model.pkl\",outside_params={\"n_estimators\":150})"
   ]
  },
  {
   "cell_type": "code",
   "execution_count": null,
   "metadata": {},
   "outputs": [],
   "source": [
    "multiround_revised_other=multiround_revising(30,source_tl,debt_consolidation_regression_train_x,debt_consolidation_regression_train_y,other_regression_train_x, other_regression_train_y,min_split_loss=0.001,min_child_weight=1)\n",
    "other_tl_with_update=fit_my_xgb_tl_with_update(\"results_tl_update/other_tl_model.pkl\",other_regression_train_x,other_regression_train_y,other_regression_test_x,other_regression_test_y,source_model=multiround_revised_other,path=\"models_tl_update/other_tl_model.pkl\",outside_params={\"n_estimators\":150})"
   ]
  },
  {
   "cell_type": "code",
   "execution_count": null,
   "metadata": {},
   "outputs": [],
   "source": [
    "multiround_revised_other=multiround_revising(30,source_tl,debt_consolidation_regression_train_x,debt_consolidation_regression_train_y,other_regression_train_x, other_regression_train_y,min_split_loss=0.1,min_child_weight=1)\n",
    "other_tl_with_update=fit_my_xgb_tl_with_update(\"results_tl_update/other_tl_model.pkl\",other_regression_train_x,other_regression_train_y,other_regression_test_x,other_regression_test_y,source_model=multiround_revised_other,path=\"models_tl_update/other_tl_model.pkl\",outside_params={\"n_estimators\":150})"
   ]
  },
  {
   "cell_type": "code",
   "execution_count": null,
   "metadata": {},
   "outputs": [],
   "source": [
    "multiround_revised_other=multiround_revising(30,source_tl,debt_consolidation_regression_train_x,debt_consolidation_regression_train_y,other_regression_train_x, other_regression_train_y,min_split_loss=2,min_child_weight=1)\n",
    "other_tl_with_update=fit_my_xgb_tl_with_update(\"results_tl_update/other_tl_model.pkl\",other_regression_train_x,other_regression_train_y,other_regression_test_x,other_regression_test_y,source_model=multiround_revised_other,path=\"models_tl_update/other_tl_model.pkl\",outside_params={\"n_estimators\":150})"
   ]
  },
  {
   "cell_type": "code",
   "execution_count": null,
   "metadata": {},
   "outputs": [],
   "source": [
    "multiround_revised_other=multiround_revising(30,source_tl,debt_consolidation_regression_train_x,debt_consolidation_regression_train_y,other_regression_train_x, other_regression_train_y,min_split_loss=4,min_child_weight=1)\n",
    "other_tl_with_update=fit_my_xgb_tl_with_update(\"results_tl_update/other_tl_model.pkl\",other_regression_train_x,other_regression_train_y,other_regression_test_x,other_regression_test_y,source_model=multiround_revised_other,path=\"models_tl_update/other_tl_model.pkl\",outside_params={\"n_estimators\":150})"
   ]
  },
  {
   "cell_type": "code",
   "execution_count": null,
   "metadata": {},
   "outputs": [],
   "source": [
    "multiround_revised_other=multiround_revising(30,source_tl,debt_consolidation_regression_train_x,debt_consolidation_regression_train_y,other_regression_train_x, other_regression_train_y,min_split_loss=0.3,min_child_weight=1)\n",
    "other_tl_with_update=fit_my_xgb_tl_with_update(\"results_tl_update/other_tl_model.pkl\",other_regression_train_x,other_regression_train_y,other_regression_test_x,other_regression_test_y,source_model=multiround_revised_other,path=\"models_tl_update/other_tl_model.pkl\",outside_params={\"n_estimators\":150})"
   ]
  },
  {
   "cell_type": "code",
   "execution_count": null,
   "metadata": {},
   "outputs": [],
   "source": [
    "multiround_revised_home_improvement=multiround_revising(30,source_tl,debt_consolidation_regression_train_x,debt_consolidation_regression_train_y,home_improvement_regression_train_x, home_improvement_regression_train_y,min_split_loss=0.00000001,min_child_weight=1)\n",
    "home_improvement_tl_with_update=fit_my_xgb_tl_with_update(\"results_tl_update/home_improvement_tl_model.pkl\",home_improvement_regression_train_x,home_improvement_regression_train_y,home_improvement_regression_test_x,home_improvement_regression_test_y,source_model=multiround_revised_home_improvement,path=\"models_tl_update/home_improvement_tl_model.pkl\",outside_params={\"n_estimators\":150})"
   ]
  },
  {
   "cell_type": "code",
   "execution_count": null,
   "metadata": {},
   "outputs": [],
   "source": [
    "multiround_revised_home_improvement=multiround_revising(30,source_tl,debt_consolidation_regression_train_x,debt_consolidation_regression_train_y,home_improvement_regression_train_x, home_improvement_regression_train_y,min_split_loss=0.000001,min_child_weight=1)\n",
    "home_improvement_tl_with_update=fit_my_xgb_tl_with_update(\"results_tl_update/home_improvement_tl_model.pkl\",home_improvement_regression_train_x,home_improvement_regression_train_y,home_improvement_regression_test_x,home_improvement_regression_test_y,source_model=multiround_revised_home_improvement,path=\"models_tl_update/home_improvement_tl_model.pkl\",outside_params={\"n_estimators\":150})"
   ]
  },
  {
   "cell_type": "code",
   "execution_count": null,
   "metadata": {},
   "outputs": [],
   "source": [
    "multiround_revised_home_improvement=multiround_revising(30,source_tl,debt_consolidation_regression_train_x,debt_consolidation_regression_train_y,home_improvement_regression_train_x, home_improvement_regression_train_y,min_split_loss=0.0001,min_child_weight=1)\n",
    "home_improvement_tl_with_update=fit_my_xgb_tl_with_update(\"results_tl_update/home_improvement_tl_model.pkl\",home_improvement_regression_train_x,home_improvement_regression_train_y,home_improvement_regression_test_x,home_improvement_regression_test_y,source_model=multiround_revised_home_improvement,path=\"models_tl_update/home_improvement_tl_model.pkl\",outside_params={\"n_estimators\":150})"
   ]
  },
  {
   "cell_type": "code",
   "execution_count": null,
   "metadata": {},
   "outputs": [],
   "source": [
    "multiround_revised_home_improvement=multiround_revising(30,source_tl,debt_consolidation_regression_train_x,debt_consolidation_regression_train_y,home_improvement_regression_train_x, home_improvement_regression_train_y,min_split_loss=0.01,min_child_weight=1)\n",
    "home_improvement_tl_with_update=fit_my_xgb_tl_with_update(\"results_tl_update/home_improvement_tl_model.pkl\",home_improvement_regression_train_x,home_improvement_regression_train_y,home_improvement_regression_test_x,home_improvement_regression_test_y,source_model=multiround_revised_home_improvement,path=\"models_tl_update/home_improvement_tl_model.pkl\",outside_params={\"n_estimators\":150})"
   ]
  },
  {
   "cell_type": "code",
   "execution_count": null,
   "metadata": {},
   "outputs": [],
   "source": [
    "multiround_revised_home_improvement=multiround_revising(30,source_tl,debt_consolidation_regression_train_x,debt_consolidation_regression_train_y,home_improvement_regression_train_x, home_improvement_regression_train_y,min_split_loss=0.3,min_child_weight=1)\n",
    "home_improvement_tl_with_update=fit_my_xgb_tl_with_update(\"results_tl_update/home_improvement_tl_model.pkl\",home_improvement_regression_train_x,home_improvement_regression_train_y,home_improvement_regression_test_x,home_improvement_regression_test_y,source_model=multiround_revised_home_improvement,path=\"models_tl_update/home_improvement_tl_model.pkl\",outside_params={\"n_estimators\":150})"
   ]
  },
  {
   "cell_type": "code",
   "execution_count": null,
   "metadata": {},
   "outputs": [],
   "source": [
    "multiround_revised_home_improvement=multiround_revising(30,source_tl,debt_consolidation_regression_train_x,debt_consolidation_regression_train_y,home_improvement_regression_train_x, home_improvement_regression_train_y,min_split_loss=1,min_child_weight=1)\n",
    "home_improvement_tl_with_update=fit_my_xgb_tl_with_update(\"results_tl_update/home_improvement_tl_model.pkl\",home_improvement_regression_train_x,home_improvement_regression_train_y,home_improvement_regression_test_x,home_improvement_regression_test_y,source_model=multiround_revised_home_improvement,path=\"models_tl_update/home_improvement_tl_model.pkl\",outside_params={\"n_estimators\":150})"
   ]
  },
  {
   "cell_type": "code",
   "execution_count": null,
   "metadata": {},
   "outputs": [],
   "source": [
    "multiround_revised_home_improvement=multiround_revising(30,source_tl,debt_consolidation_regression_train_x,debt_consolidation_regression_train_y,home_improvement_regression_train_x, home_improvement_regression_train_y,min_split_loss=1.5,min_child_weight=1)\n",
    "home_improvement_tl_with_update=fit_my_xgb_tl_with_update(\"results_tl_update/home_improvement_tl_model.pkl\",home_improvement_regression_train_x,home_improvement_regression_train_y,home_improvement_regression_test_x,home_improvement_regression_test_y,source_model=multiround_revised_home_improvement,path=\"models_tl_update/home_improvement_tl_model.pkl\",outside_params={\"n_estimators\":150})"
   ]
  },
  {
   "cell_type": "code",
   "execution_count": null,
   "metadata": {},
   "outputs": [],
   "source": [
    "multiround_revised_credit_card=multiround_revising(30,source_tl,debt_consolidation_regression_train_x,debt_consolidation_regression_train_y,credit_card_regression_train_x, credit_card_regression_train_y,min_split_loss=0.01,min_child_weight=1)\n",
    "credit_card_tl_with_update=fit_my_xgb_tl_with_update(\"results_tl_update/credit_card_tl_model.pkl\",credit_card_regression_train_x,credit_card_regression_train_y,credit_card_regression_test_x,credit_card_regression_test_y,source_model=multiround_revised_credit_card,path=\"models_tl_update/credit_card_tl_model.pkl\",outside_params={\"n_estimators\":200})"
   ]
  },
  {
   "cell_type": "code",
   "execution_count": null,
   "metadata": {},
   "outputs": [],
   "source": [
    "multiround_revised_credit_card=multiround_revising(30,source_tl,debt_consolidation_regression_train_x,debt_consolidation_regression_train_y,credit_card_regression_train_x, credit_card_regression_train_y,min_split_loss=0.3,min_child_weight=1)\n",
    "credit_card_tl_with_update=fit_my_xgb_tl_with_update(\"results_tl_update/credit_card_tl_model.pkl\",credit_card_regression_train_x,credit_card_regression_train_y,credit_card_regression_test_x,credit_card_regression_test_y,source_model=multiround_revised_credit_card,path=\"models_tl_update/credit_card_tl_model.pkl\",outside_params={\"n_estimators\":200})"
   ]
  },
  {
   "cell_type": "code",
   "execution_count": null,
   "metadata": {},
   "outputs": [],
   "source": [
    "multiround_revised_credit_card=multiround_revising(30,source_tl,debt_consolidation_regression_train_x,debt_consolidation_regression_train_y,credit_card_regression_train_x, credit_card_regression_train_y,min_split_loss=1,min_child_weight=1)\n",
    "credit_card_tl_with_update=fit_my_xgb_tl_with_update(\"results_tl_update/credit_card_tl_model.pkl\",credit_card_regression_train_x,credit_card_regression_train_y,credit_card_regression_test_x,credit_card_regression_test_y,source_model=multiround_revised_credit_card,path=\"models_tl_update/credit_card_tl_model.pkl\",outside_params={\"n_estimators\":200})"
   ]
  },
  {
   "cell_type": "code",
   "execution_count": null,
   "metadata": {},
   "outputs": [],
   "source": [
    "multiround_revised_credit_card=multiround_revising(30,source_tl,debt_consolidation_regression_train_x,debt_consolidation_regression_train_y,credit_card_regression_train_x, credit_card_regression_train_y,min_split_loss=1.5,min_child_weight=1)\n",
    "credit_card_tl_with_update=fit_my_xgb_tl_with_update(\"results_tl_update/credit_card_tl_model.pkl\",credit_card_regression_train_x,credit_card_regression_train_y,credit_card_regression_test_x,credit_card_regression_test_y,source_model=multiround_revised_credit_card,path=\"models_tl_update/credit_card_tl_model.pkl\",outside_params={\"n_estimators\":200})"
   ]
  },
  {
   "cell_type": "code",
   "execution_count": null,
   "metadata": {},
   "outputs": [],
   "source": [
    "def fit_my_xgb_tl_with_update(parameters_path,x_train,y_train,x_test,y_test,source_model,path,outside_params=None):\n",
    "    # Open the file in binary mode\n",
    "    with open(parameters_path, 'rb') as file:\n",
    "    # Call load method to deserialze\n",
    "        myvar = pickle.load(file)\n",
    "    wandb.init(project=\"transfer learning\", entity=\"otukenotuk\",config=myvar.best_params_,name=parameters_path,settings=wandb.Settings(start_method='thread'))\n",
    "    if outside_params is not None:\n",
    "        xgb_params={**myvar.best_params_,**outside_params}\n",
    "    else:\n",
    "        xgb_params=myvar.best_params_\n",
    "    model=xgb.XGBClassifier(**xgb_params,eval_metric=[\"auc\",\"logloss\",\"aucpr\"],early_stopping_rounds=20)\n",
    "    model.fit(x_train,\n",
    "    y_train,\n",
    "    eval_set=[(x_train,y_train),\n",
    "    (x_test,y_test)],callbacks=[WandbCallback()],xgb_model=source_model)\n",
    "    wandb.finish()\n",
    "    with open(path, 'wb') as file:\n",
    "    # A new file will be created\n",
    "        pickle.dump(model, file)\n",
    "    return model"
   ]
  },
  {
   "cell_type": "code",
   "execution_count": null,
   "metadata": {},
   "outputs": [],
   "source": [
    "def fit_my_xgb(parameters_path,x_train,y_train,x_test,y_test,outside_params=None):\n",
    "    # Open the file in binary mode\n",
    "    with open(parameters_path, 'rb') as file:\n",
    "    # Call load method to deserialze\n",
    "        myvar = pickle.load(file)\n",
    "    wandb.init(project=\"transfer learning\", entity=\"otukenotuk\",config=myvar.best_params_,name=parameters_path,settings=wandb.Settings(start_method='thread'))\n",
    "    if outside_params is not None:\n",
    "        xgb_params={**myvar.best_params_,**outside_params}\n",
    "    else:\n",
    "        xgb_params=myvar.best_params_\n",
    "\n",
    "    model=xgb.XGBClassifier(**xgb_params,eval_metric=[\"auc\",\"logloss\",\"aucpr\"],early_stopping_rounds=20)\n",
    "    model.fit(x_train,\n",
    "    y_train,\n",
    "    eval_set=[(x_train,y_train),\n",
    "    (x_test,y_test)],callbacks=[WandbCallback()])\n",
    "    wandb.finish()\n",
    "    return model"
   ]
  },
  {
   "cell_type": "code",
   "execution_count": null,
   "metadata": {},
   "outputs": [],
   "source": [
    "house_notl=fit_my_xgb(\"results/house_notl_results_deep.pkl\",house_regression_train_x,house_regression_train_y,house_regression_test_x,house_regression_test_y,outside_params={\"n_estimators\":200})\n",
    "# Open a file and use dump()\n",
    "with open('no_tl_models/house_notl_model.pkl', 'wb') as file:\n",
    "    # A new file will be created\n",
    "    pickle.dump(house_notl, file)"
   ]
  },
  {
   "cell_type": "code",
   "execution_count": null,
   "metadata": {},
   "outputs": [],
   "source": [
    "def fit_my_xgb_tl_no_update(parameters_path,x_train,y_train,x_test,y_test,base_model,path,outside_params=None):\n",
    "    # Open the file in binary mode\n",
    "    with open(parameters_path, 'rb') as file:\n",
    "    # Call load method to deserialze\n",
    "        myvar = pickle.load(file)\n",
    "    wandb.init(project=\"transfer learning\", entity=\"otukenotuk\",config=myvar.best_params_,name=parameters_path,settings=wandb.Settings(start_method='thread'))\n",
    "    if outside_params is not None:\n",
    "        xgb_params={**myvar.best_params_,**outside_params}\n",
    "    else:\n",
    "        xgb_params=myvar.best_params_\n",
    "\n",
    "    model=xgb.XGBClassifier(**xgb_params,eval_metric=[\"auc\",\"logloss\",\"aucpr\"],early_stopping_rounds=20)\n",
    "    model.fit(x_train,\n",
    "    y_train,\n",
    "    eval_set=[(x_train,y_train),\n",
    "    (x_test,y_test)],callbacks=[WandbCallback()],xgb_model=base_model.get_booster())\n",
    "    wandb.finish()\n",
    "    with open(path, 'wb') as file:\n",
    "    # A new file will be created\n",
    "        pickle.dump(model, file)\n",
    "    return model"
   ]
  },
  {
   "cell_type": "code",
   "execution_count": null,
   "metadata": {},
   "outputs": [],
   "source": [
    "source_params"
   ]
  },
  {
   "cell_type": "code",
   "execution_count": null,
   "metadata": {},
   "outputs": [],
   "source": [
    "base_model=xgb.XGBClassifier(**source_params,eval_metric=[\"auc\",\"logloss\",\"aucpr\"],early_stopping_rounds=20)\n",
    "base_model.fit(debt_consolidation_regression_train_x,\n",
    "debt_consolidation_regression_train_y,\n",
    "eval_set=[(debt_consolidation_regression_train_x,debt_consolidation_regression_train_y),\n",
    "(debt_consolidation_regression_test_x,debt_consolidation_regression_test_y)],verbose=True)"
   ]
  },
  {
   "cell_type": "code",
   "execution_count": null,
   "metadata": {},
   "outputs": [],
   "source": [
    "house_tl_nonupdate=fit_my_xgb_tl_no_update(\"results_tl_nonupdate/house_tl_model.pkl\",house_regression_train_x,house_regression_train_y,house_regression_test_x,house_regression_test_y,base_model=base_model,path=\"models_tl_nonupdate/house_tl_model.pkl\",outside_params={\"n_estimators\":200})"
   ]
  },
  {
   "cell_type": "code",
   "execution_count": null,
   "metadata": {},
   "outputs": [],
   "source": [
    "def tune_revised_parameters(num_rounds,source_parameters,param_grid,x_source,y_source,x_target,y_target,min_split_loss_list,min_child_weight_list,name,seed=27):\n",
    "    results_dictionary={}\n",
    "    results_dictionary[\"min_split_loss_list\"]=[]\n",
    "    results_dictionary[\"min_child_weight_list\"]=[]\n",
    "    results_dictionary[\"best_score\"]=[]\n",
    "    results_dictionary[\"best_params\"]=[]\n",
    "    for i in min_split_loss_list:\n",
    "        for j in min_child_weight_list:\n",
    "            results_dictionary[\"min_split_loss_list\"].append(i)\n",
    "            results_dictionary[\"min_child_weight_list\"].append(j)\n",
    "    \n",
    "            source=multiround_revising(num_rounds,source_parameters,x_source,y_source,\n",
    "            x_target,y_target,min_split_loss=i,min_child_weight=j)\n",
    "\n",
    "            my_search= RandomizedSearchCV(estimator = xgb.XGBClassifier(objective= 'binary:logistic'), \n",
    "            param_distributions = param_grid, scoring='roc_auc',n_jobs=-1, cv=5,return_train_score=True,random_state=seed,n_iter=100,verbose=10)\n",
    "            my_search.fit(x_target,y_target,xgb_model=source)\n",
    "            results_dictionary[\"best_score\"].append(my_search.best_score_)\n",
    "            results_dictionary[\"best_params\"].append(my_search.best_params_)\n",
    "            if max(results_dictionary[\"best_score\"])==my_search.best_score_:\n",
    "                    with open(f'results_tl_update/{name}_tl_model.pkl', 'wb') as file:\n",
    "                        # A new file will be created\n",
    "                        pickle.dump(my_search, file)\n",
    "    return results_dictionary"
   ]
  },
  {
   "cell_type": "code",
   "execution_count": null,
   "metadata": {},
   "outputs": [],
   "source": [
    "parameter_dict_transfer={\n",
    "\"eta\":np.linspace(0,0.2,5).tolist(),\n",
    "#\"gamma\":np.linspace(0,1,10).tolist(),\n",
    "\"max_depth\":[i for i in range(3,7)],\n",
    "#\"min_child_weight\":[i for i in range(1,11)],\n",
    "#\"subsample\":np.linspace(0.5,1,10).tolist(),\n",
    "#\"colsample_bytree\":np.linspace(0.75,1,5).tolist(),\n",
    "#\"colsample_bynode\":np.linspace(0.5,1,7).tolist(),\n",
    "\"alpha\":np.linspace(0.01,0.15,5).tolist(),\n",
    "\"n_estimators\":[30,40, 80, 120, 160, 200]\n",
    "}"
   ]
  },
  {
   "cell_type": "code",
   "execution_count": null,
   "metadata": {},
   "outputs": [],
   "source": [
    "results_dictionary_renewable_energy=tune_revised_parameters(num_rounds=30,source_parameters=source_tl,param_grid=parameter_dict_transfer,\n",
    "x_source=debt_consolidation_regression_train_x,y_source=debt_consolidation_regression_train_y,x_target=renewable_energy_regression_train_x,\n",
    "y_target=renewable_energy_regression_train_y,min_split_loss_list=[0.001,0.1,1],min_child_weight_list=[2,3,5],name=\"renewable_energy\")"
   ]
  },
  {
   "cell_type": "code",
   "execution_count": null,
   "metadata": {},
   "outputs": [],
   "source": [
    "multiround_revised_renewable_energy=multiround_revising(30,source_tl,debt_consolidation_regression_train_x,debt_consolidation_regression_train_y,renewable_energy_regression_train_x, renewable_energy_regression_train_y,min_split_loss=0.00000001,min_child_weight=1)\n",
    "renewable_energy_tl_with_update=fit_my_xgb_tl_with_update(\"results_tl_update/renewable_energy_tl_model.pkl\",renewable_energy_regression_train_x,renewable_energy_regression_train_y,renewable_energy_regression_test_x,renewable_energy_regression_test_y,source_model=multiround_revised_renewable_energy,path=\"models_tl_update/renewable_energy_tl_model.pkl\",outside_params={\"n_estimators\":200})"
   ]
  },
  {
   "cell_type": "code",
   "execution_count": null,
   "metadata": {},
   "outputs": [],
   "source": [
    "multiround_revised_renewable_energy=multiround_revising(30,source_tl,debt_consolidation_regression_train_x,debt_consolidation_regression_train_y,renewable_energy_regression_train_x, renewable_energy_regression_train_y,min_split_loss=0.0000001,min_child_weight=1)\n",
    "renewable_energy_tl_with_update=fit_my_xgb_tl_with_update(\"results_tl_update/renewable_energy_tl_model.pkl\",renewable_energy_regression_train_x,renewable_energy_regression_train_y,renewable_energy_regression_test_x,renewable_energy_regression_test_y,source_model=multiround_revised_renewable_energy,path=\"models_tl_update/renewable_energy_tl_model.pkl\",outside_params={\"n_estimators\":200})"
   ]
  },
  {
   "cell_type": "code",
   "execution_count": null,
   "metadata": {},
   "outputs": [],
   "source": [
    "multiround_revised_renewable_energy=multiround_revising(30,source_tl,debt_consolidation_regression_train_x,debt_consolidation_regression_train_y,renewable_energy_regression_train_x, renewable_energy_regression_train_y,min_split_loss=0.00001,min_child_weight=1)\n",
    "renewable_energy_tl_with_update=fit_my_xgb_tl_with_update(\"results_tl_update/renewable_energy_tl_model.pkl\",renewable_energy_regression_train_x,renewable_energy_regression_train_y,renewable_energy_regression_test_x,renewable_energy_regression_test_y,source_model=multiround_revised_renewable_energy,path=\"models_tl_update/renewable_energy_tl_model.pkl\",outside_params={\"n_estimators\":200})"
   ]
  },
  {
   "cell_type": "code",
   "execution_count": null,
   "metadata": {},
   "outputs": [],
   "source": [
    "multiround_revised_renewable_energy=multiround_revising(30,source_tl,debt_consolidation_regression_train_x,debt_consolidation_regression_train_y,renewable_energy_regression_train_x, renewable_energy_regression_train_y,min_split_loss=0.001,min_child_weight=1)\n",
    "renewable_energy_tl_with_update=fit_my_xgb_tl_with_update(\"results_tl_update/renewable_energy_tl_model.pkl\",renewable_energy_regression_train_x,renewable_energy_regression_train_y,renewable_energy_regression_test_x,renewable_energy_regression_test_y,source_model=multiround_revised_renewable_energy,path=\"models_tl_update/renewable_energy_tl_model.pkl\",outside_params={\"n_estimators\":200})"
   ]
  },
  {
   "cell_type": "code",
   "execution_count": null,
   "metadata": {},
   "outputs": [],
   "source": [
    "multiround_revised_renewable_energy=multiround_revising(30,source_tl,debt_consolidation_regression_train_x,debt_consolidation_regression_train_y,renewable_energy_regression_train_x, renewable_energy_regression_train_y,min_split_loss=0.01,min_child_weight=1)\n",
    "renewable_energy_tl_with_update=fit_my_xgb_tl_with_update(\"results_tl_update/renewable_energy_tl_model.pkl\",renewable_energy_regression_train_x,renewable_energy_regression_train_y,renewable_energy_regression_test_x,renewable_energy_regression_test_y,source_model=multiround_revised_renewable_energy,path=\"models_tl_update/renewable_energy_tl_model.pkl\",outside_params={\"n_estimators\":200})"
   ]
  },
  {
   "cell_type": "code",
   "execution_count": null,
   "metadata": {},
   "outputs": [],
   "source": [
    "multiround_revised_renewable_energy=multiround_revising(30,source_tl,debt_consolidation_regression_train_x,debt_consolidation_regression_train_y,renewable_energy_regression_train_x, renewable_energy_regression_train_y,min_split_loss=0.1,min_child_weight=1)\n",
    "renewable_energy_tl_with_update=fit_my_xgb_tl_with_update(\"results_tl_update/renewable_energy_tl_model.pkl\",renewable_energy_regression_train_x,renewable_energy_regression_train_y,renewable_energy_regression_test_x,renewable_energy_regression_test_y,source_model=multiround_revised_renewable_energy,path=\"models_tl_update/renewable_energy_tl_model.pkl\",outside_params={\"n_estimators\":200})"
   ]
  },
  {
   "cell_type": "code",
   "execution_count": null,
   "metadata": {},
   "outputs": [],
   "source": [
    "multiround_revised_renewable_energy=multiround_revising(30,source_tl,debt_consolidation_regression_train_x,debt_consolidation_regression_train_y,renewable_energy_regression_train_x, renewable_energy_regression_train_y,min_split_loss=0.1,min_child_weight=1)\n",
    "renewable_energy_tl_with_update=fit_my_xgb_tl_with_update(\"results_tl_update/renewable_energy_tl_model.pkl\",renewable_energy_regression_train_x,renewable_energy_regression_train_y,renewable_energy_regression_test_x,renewable_energy_regression_test_y,source_model=multiround_revised_renewable_energy,path=\"models_tl_update/renewable_energy_tl_model.pkl\",outside_params={\"n_estimators\":200})"
   ]
  }
 ],
 "metadata": {
  "interpreter": {
   "hash": "2573e0d14c1182e6ab532e17c2db583fd4b314e4563ab3ceb8da5d965ab0d85e"
  },
  "kernelspec": {
   "display_name": "Python 3.8.12 ('transfer_learning')",
   "language": "python",
   "name": "python3"
  },
  "language_info": {
   "codemirror_mode": {
    "name": "ipython",
    "version": 3
   },
   "file_extension": ".py",
   "mimetype": "text/x-python",
   "name": "python",
   "nbconvert_exporter": "python",
   "pygments_lexer": "ipython3",
   "version": "3.8.12"
  },
  "orig_nbformat": 4
 },
 "nbformat": 4,
 "nbformat_minor": 2
}
