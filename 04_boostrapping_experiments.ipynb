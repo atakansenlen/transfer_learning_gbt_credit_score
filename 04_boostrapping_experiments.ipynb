{
 "cells": [
  {
   "cell_type": "code",
   "execution_count": null,
   "metadata": {},
   "outputs": [],
   "source": [
    "import pandas as pd\n",
    "import numpy as np\n",
    "from sklearn.utils import resample\n",
    "import pickle\n",
    "import wandb\n",
    "from wandb.integration.xgboost import WandbCallback\n",
    "import xgboost as xgb\n",
    "from sklearn.linear_model import LogisticRegression\n",
    "from sklearn.metrics.pairwise import cosine_similarity\n",
    "from scipy.stats import gaussian_kde\n",
    "from sklearn.preprocessing import StandardScaler"
   ]
  },
  {
   "cell_type": "code",
   "execution_count": null,
   "metadata": {},
   "outputs": [],
   "source": [
    "print(list(np.around(np.linspace(0.01,0.15,5),2)))\n"
   ]
  },
  {
   "cell_type": "code",
   "execution_count": null,
   "metadata": {},
   "outputs": [],
   "source": [
    "print([i for i in range(3,7)],)"
   ]
  },
  {
   "cell_type": "code",
   "execution_count": null,
   "metadata": {},
   "outputs": [],
   "source": [
    "regression_data=pd.read_csv(r\"C:\\Users\\asenlen\\Desktop\\Projects\\tez\\modeller\\lending_club\\regression_data.csv\")\n",
    "regression_data.isnull().sum()\n",
    "regression_data.notnull().shape"
   ]
  },
  {
   "cell_type": "code",
   "execution_count": null,
   "metadata": {},
   "outputs": [],
   "source": [
    "regression_data=regression_data[regression_data['mort_acc'].notnull()]\n",
    "regression_data.shape\n",
    "regression_data.isnull().sum()"
   ]
  },
  {
   "cell_type": "code",
   "execution_count": null,
   "metadata": {},
   "outputs": [],
   "source": [
    "regression_data.shape"
   ]
  },
  {
   "cell_type": "code",
   "execution_count": null,
   "metadata": {},
   "outputs": [],
   "source": [
    "regression_data['loan_status'],loan_uniques=pd.factorize(regression_data['loan_status'], sort=True)\n",
    "regression_data['loan_status']=1-regression_data['loan_status'].astype(\"int\")\n",
    "regression_data['loan_status'].value_counts()"
   ]
  },
  {
   "cell_type": "code",
   "execution_count": null,
   "metadata": {},
   "outputs": [],
   "source": [
    "debt_consolidation_regression=regression_data[regression_data['purpose']=='debt_consolidation'].reset_index(drop=True)\n",
    "credit_card_regression=regression_data[regression_data['purpose']=='credit_card'].reset_index(drop=True)\n",
    "home_improvement_regression=regression_data[regression_data['purpose']=='home_improvement'].reset_index(drop=True)\n",
    "other_regression=regression_data[regression_data['purpose']=='other'].reset_index(drop=True)\n",
    "major_purchase_regression=regression_data[regression_data['purpose']=='major_purchase'].reset_index(drop=True)\n",
    "small_business_regression=regression_data[regression_data['purpose']=='small_business'].reset_index(drop=True)\n",
    "medical_regression=regression_data[regression_data['purpose']=='medical'].reset_index(drop=True)\n",
    "car_regression=regression_data[regression_data['purpose']=='car'].reset_index(drop=True)\n",
    "moving_regression=regression_data[regression_data['purpose']=='moving'].reset_index(drop=True)\n",
    "vacation_regression=regression_data[regression_data['purpose']=='vacation'].reset_index(drop=True)\n",
    "house_regression=regression_data[regression_data['purpose']=='house'].reset_index(drop=True)\n",
    "wedding=regression_data[regression_data['purpose']=='wedding'].reset_index(drop=True)\n",
    "renewable_energy_regression=regression_data[regression_data['purpose']=='renewable_energy'].reset_index(drop=True)\n",
    "educational_regression=regression_data[regression_data['purpose']=='educational'].reset_index(drop=True)"
   ]
  },
  {
   "cell_type": "code",
   "execution_count": null,
   "metadata": {},
   "outputs": [],
   "source": [
    "regression_data=None"
   ]
  },
  {
   "cell_type": "code",
   "execution_count": null,
   "metadata": {},
   "outputs": [],
   "source": [
    "#model denemeleri \n",
    "from sklearn.model_selection import train_test_split\n",
    "debt_consolidation_regression_train, debt_consolidation_regression_test = train_test_split(debt_consolidation_regression, test_size=0.20, random_state=42)\n",
    "credit_card_regression_train, credit_card_regression_test = train_test_split(credit_card_regression, test_size=0.20, random_state=42)\n",
    "home_improvement_regression_train, home_improvement_regression_test = train_test_split(home_improvement_regression, test_size=0.20, random_state=42)\n",
    "other_regression_train, other_regression_test = train_test_split(other_regression, test_size=0.20, random_state=42)\n",
    "major_purchase_regression_train, major_purchase_regression_test = train_test_split(major_purchase_regression, test_size=0.20, random_state=42)\n",
    "small_business_regression_train, small_business_regression_test = train_test_split(small_business_regression, test_size=0.20, random_state=42)\n",
    "medical_regression_train, medical_regression_test = train_test_split(medical_regression, test_size=0.20, random_state=42)\n",
    "car_regression_train, car_regression_test = train_test_split(car_regression, test_size=0.20, random_state=42)\n",
    "moving_regression_train, moving_regression_test = train_test_split(moving_regression, test_size=0.20, random_state=42)\n",
    "vacation_regression_train, vacation_regression_test = train_test_split(vacation_regression, test_size=0.20, random_state=42)\n",
    "house_regression_train, house_regression_test = train_test_split(house_regression, test_size=0.20, random_state=42)\n",
    "wedding_train, wedding_test = train_test_split(wedding, test_size=0.20, random_state=42)\n",
    "renewable_energy_regression_train, renewable_energy_regression_test = train_test_split(renewable_energy_regression, test_size=0.20, random_state=42)"
   ]
  },
  {
   "cell_type": "code",
   "execution_count": null,
   "metadata": {},
   "outputs": [],
   "source": [
    "debt_consolidation_regression_y,debt_consolidation_regression_x=debt_consolidation_regression['loan_status'],debt_consolidation_regression.drop(['purpose','loan_status'],axis=1)"
   ]
  },
  {
   "cell_type": "code",
   "execution_count": null,
   "metadata": {},
   "outputs": [],
   "source": [
    "debt_consolidation_regression_train_y,debt_consolidation_regression_train_x=debt_consolidation_regression_train['loan_status'],debt_consolidation_regression_train.drop(['purpose','loan_status'],axis=1)\n",
    "debt_consolidation_regression_test_y,debt_consolidation_regression_test_x=debt_consolidation_regression_test['loan_status'],debt_consolidation_regression_test.drop(['purpose','loan_status'],axis=1)\n",
    "\n",
    "credit_card_regression_train_y,credit_card_regression_train_x=credit_card_regression_train['loan_status'],credit_card_regression_train.drop(['purpose','loan_status'],axis=1)\n",
    "credit_card_regression_test_y,credit_card_regression_test_x=credit_card_regression_test['loan_status'],credit_card_regression_test.drop(['purpose','loan_status'],axis=1)\n",
    "\n",
    "home_improvement_regression_train_y,home_improvement_regression_train_x=home_improvement_regression_train['loan_status'],home_improvement_regression_train.drop(['purpose','loan_status'],axis=1)\n",
    "home_improvement_regression_test_y,home_improvement_regression_test_x=home_improvement_regression_test['loan_status'],home_improvement_regression_test.drop(['purpose','loan_status'],axis=1)\n",
    "\n",
    "other_regression_train_y,other_regression_train_x=other_regression_train['loan_status'],other_regression_train.drop(['purpose','loan_status'],axis=1)\n",
    "other_regression_test_y,other_regression_test_x=other_regression_test['loan_status'],other_regression_test.drop(['purpose','loan_status'],axis=1)\n",
    "\n",
    "major_purchase_regression_train_y,major_purchase_regression_train_x=major_purchase_regression_train['loan_status'],major_purchase_regression_train.drop(['purpose','loan_status'],axis=1)\n",
    "major_purchase_regression_test_y,major_purchase_regression_test_x=major_purchase_regression_test['loan_status'],major_purchase_regression_test.drop(['purpose','loan_status'],axis=1)\n",
    "\n",
    "small_business_regression_train_y,small_business_regression_train_x=small_business_regression_train['loan_status'],small_business_regression_train.drop(['purpose','loan_status'],axis=1)\n",
    "small_business_regression_test_y,small_business_regression_test_x=small_business_regression_test['loan_status'],small_business_regression_test.drop(['purpose','loan_status'],axis=1)\n",
    "\n",
    "medical_regression_train_y,medical_regression_train_x=medical_regression_train['loan_status'],medical_regression_train.drop(['purpose','loan_status'],axis=1)\n",
    "medical_regression_test_y,medical_regression_test_x=medical_regression_test['loan_status'],medical_regression_test.drop(['purpose','loan_status'],axis=1)\n",
    "\n",
    "car_regression_train_y,car_regression_train_x=car_regression_train['loan_status'],car_regression_train.drop(['purpose','loan_status'],axis=1)\n",
    "car_regression_test_y,car_regression_test_x=car_regression_test['loan_status'],car_regression_test.drop(['purpose','loan_status'],axis=1)\n",
    "\n",
    "moving_regression_train_y,moving_regression_train_x=moving_regression_train['loan_status'],moving_regression_train.drop(['purpose','loan_status'],axis=1)\n",
    "moving_regression_test_y,moving_regression_test_x=moving_regression_test['loan_status'],moving_regression_test.drop(['purpose','loan_status'],axis=1)\n",
    "\n",
    "vacation_regression_train_y,vacation_regression_train_x=vacation_regression_train['loan_status'],vacation_regression_train.drop(['purpose','loan_status'],axis=1)\n",
    "vacation_regression_test_y,vacation_regression_test_x=vacation_regression_test['loan_status'],vacation_regression_test.drop(['purpose','loan_status'],axis=1)\n",
    "\n",
    "house_regression_train_y,house_regression_train_x=house_regression_train['loan_status'],house_regression_train.drop(['purpose','loan_status'],axis=1)\n",
    "house_regression_test_y,house_regression_test_x=house_regression_test['loan_status'],house_regression_test.drop(['purpose','loan_status'],axis=1)\n",
    "\n",
    "wedding_train_y,wedding_train_x=wedding_train['loan_status'],wedding_train.drop(['purpose','loan_status'],axis=1)\n",
    "wedding_test_y,wedding_test_x=wedding_test['loan_status'],wedding_test.drop(['purpose','loan_status'],axis=1)\n",
    "\n",
    "renewable_energy_regression_train_y,renewable_energy_regression_train_x=renewable_energy_regression_train['loan_status'],renewable_energy_regression_train.drop(['purpose','loan_status'],axis=1)\n",
    "renewable_energy_regression_test_y,renewable_energy_regression_test_x=renewable_energy_regression_test['loan_status'],renewable_energy_regression_test.drop(['purpose','loan_status'],axis=1)"
   ]
  },
  {
   "cell_type": "code",
   "execution_count": null,
   "metadata": {},
   "outputs": [],
   "source": [
    "debt_consolidation_regression_train_x.shape"
   ]
  },
  {
   "cell_type": "code",
   "execution_count": null,
   "metadata": {},
   "outputs": [],
   "source": [
    "amcik_sote=resample(debt_consolidation_regression_train,n_samples=300,replace=True)\n",
    "print(amcik_sote[amcik_sote[\"loan_status\"]==0].shape[0])\n",
    "print(amcik_sote[amcik_sote[\"loan_status\"]==1].shape[0])"
   ]
  },
  {
   "cell_type": "code",
   "execution_count": null,
   "metadata": {},
   "outputs": [],
   "source": [
    "amin_evladi={}\n",
    "amin_evladi[\"d\"]=[]\n",
    "amin_evladi[\"d\"].append(3)\n",
    "amin_evladi"
   ]
  },
  {
   "cell_type": "code",
   "execution_count": null,
   "metadata": {},
   "outputs": [],
   "source": [
    "def kl_mvn(m0, S0, m1, S1):\n",
    "    \"\"\"\n",
    "    https://stackoverflow.com/questions/44549369/kullback-leibler-divergence-from-gaussian-pm-pv-to-gaussian-qm-qv\n",
    "    The following function computes the KL-Divergence between any two \n",
    "    multivariate normal distributions \n",
    "    (no need for the covariance matrices to be diagonal)\n",
    "    Kullback-Liebler divergence from Gaussian pm,pv to Gaussian qm,qv.\n",
    "    Also computes KL divergence from a single Gaussian pm,pv to a set\n",
    "    of Gaussians qm,qv.\n",
    "    Diagonal covariances are assumed.  Divergence is expressed in nats.\n",
    "    - accepts stacks of means, but only one S0 and S1\n",
    "    From wikipedia\n",
    "    KL( (m0, S0) || (m1, S1))\n",
    "         = .5 * ( tr(S1^{-1} S0) + log |S1|/|S0| + \n",
    "                  (m1 - m0)^T S1^{-1} (m1 - m0) - N )\n",
    "    # 'diagonal' is [1, 2, 3, 4]\n",
    "    tf.diag(diagonal) ==> [[1, 0, 0, 0]\n",
    "                          [0, 2, 0, 0]\n",
    "                          [0, 0, 3, 0]\n",
    "                          [0, 0, 0, 4]]\n",
    "    # See wikipedia on KL divergence special case.              \n",
    "    #KL = 0.5 * tf.reduce_sum(1 + t_log_var - K.square(t_mean) - K.exp(t_log_var), axis=1)   \n",
    "                if METHOD['name'] == 'kl_pen':\n",
    "                self.tflam = tf.placeholder(tf.float32, None, 'lambda')\n",
    "                kl = tf.distributions.kl_divergence(oldpi, pi)\n",
    "                self.kl_mean = tf.reduce_mean(kl)\n",
    "                self.aloss = -(tf.reduce_mean(surr - self.tflam * kl))                               \n",
    "    \"\"\"\n",
    "    # store inv diag covariance of S1 and diff between means\n",
    "    N = m0.shape[0]\n",
    "    iS1 = np.linalg.inv(S1)\n",
    "    diff = m1 - m0\n",
    "\n",
    "    # kl is made of three terms\n",
    "    tr_term   = np.trace(iS1 @ S0)\n",
    "    det_term  = np.log(np.linalg.det(S1)/np.linalg.det(S0)) #np.sum(np.log(S1)) - np.sum(np.log(S0))\n",
    "    quad_term = diff.T @ np.linalg.inv(S1) @ diff #np.sum( (diff*diff) * iS1, axis=1)\n",
    "    #print(tr_term,det_term,quad_term)\n",
    "    return .5 * (tr_term + det_term + quad_term - N)"
   ]
  },
  {
   "cell_type": "code",
   "execution_count": null,
   "metadata": {},
   "outputs": [],
   "source": [
    "(debt_consolidation_regression_train_y.shape[0]-debt_consolidation_regression_train_y.sum())/(debt_consolidation_regression_train_y.sum())"
   ]
  },
  {
   "cell_type": "code",
   "execution_count": null,
   "metadata": {},
   "outputs": [],
   "source": [
    "kamil_koc=LogisticRegression(multi_class='ovr').fit(debt_consolidation_regression_x, debt_consolidation_regression_y)\n",
    "kamil_koc.coef_"
   ]
  },
  {
   "cell_type": "code",
   "execution_count": null,
   "metadata": {},
   "outputs": [],
   "source": [
    "def no_tl_boostrapped(train_data,test_data,base_data_x,base_data_y,n_trials,parameters_path,name,outside_params=None):\n",
    "    scaler = StandardScaler()\n",
    "    scaler.fit(base_data_x)\n",
    "    base_data_x_scaled=scaler.transform(base_data_x)\n",
    "    base_regression=LogisticRegression(multi_class='ovr').fit(base_data_x_scaled, base_data_y)\n",
    "    base_mean_vector=np.mean(base_data_x,axis=0)\n",
    "    base_kde=gaussian_kde(base_data_x.transpose(), bw_method='silverman')\n",
    "    base_covariance=base_kde.covariance\n",
    "    base_neg_pos_ratio=(base_data_y.shape[0]-base_data_y.sum())/(base_data_y.sum())\n",
    "    ##result_dict={}\n",
    "    #result_dict[\"name\"]=[]\n",
    "    #result_dict[\"nrow\"]=[]\n",
    "    #result_dict[\"y|x_cosine_similarity\"]=[]\n",
    "    #result_dict[\"x_dist_kl_divergence\"]=[]\n",
    "    #result_dict[\"0/1_ratio_abs_divergence\"]=[]\n",
    "    for i in range(n_trials):\n",
    "        #result_dict[\"name\"].append(f\"no_tl_boostrapped_{name}_trial_{i}\")\n",
    "        if (name==\"wedding\") or (name==\"renewable_energy\"):\n",
    "            boostrapped_train=resample(train_data, n_samples=int(0.9*train_data.shape[0]), replace=True)\n",
    "            boostrapped_test=resample(test_data, n_samples=int(0.9*test_data.shape[0]), replace=True)\n",
    "        else:\n",
    "            boostrapped_train=resample(train_data, n_samples=int(0.8*train_data.shape[0]), replace=True)\n",
    "            boostrapped_test=resample(test_data, n_samples=int(0.8*test_data.shape[0]), replace=True)\n",
    "        y_train,x_train=boostrapped_train['loan_status'],boostrapped_train.drop(['purpose','loan_status'],axis=1)\n",
    "        y_test,x_test=boostrapped_test['loan_status'],boostrapped_test.drop(['purpose','loan_status'],axis=1)\n",
    "        scaler = StandardScaler()\n",
    "        scaler.fit(x_train)\n",
    "        x_train_scaled=scaler.transform(x_train)\n",
    "        #result_dict[\"nrow\"].append(x_train.shape[0])\n",
    "        domain_neg_pos_ratio=(y_train.shape[0]-y_train.sum())/(y_train.sum())\n",
    "        abs_divergence=abs(base_neg_pos_ratio-domain_neg_pos_ratio)\n",
    "        #result_dict[\"0/1_ratio_abs_divergence\"].append(abs_divergence)\n",
    "        domain_regression=LogisticRegression(multi_class='ovr').fit(x_train_scaled, y_train)\n",
    "        #result_dict[\"y|x_cosine_similarity\"].append(cosine_similarity(domain_regression.coef_,base_regression.coef_))\n",
    "        domain_mean_vector=np.mean(x_train,axis=0)\n",
    "        domain_kde=gaussian_kde(x_train.transpose(), bw_method='silverman')\n",
    "        domain_covariance=domain_kde.covariance\n",
    "        kl_divergence=kl_mvn(m0=base_mean_vector,S0=base_covariance,m1=domain_mean_vector,S1=domain_covariance)\n",
    "        #result_dict[\"x_dist_kl_divergence\"].append(kl_divergence)\n",
    "            # Open the file in binary mode\n",
    "        with open(parameters_path, 'rb') as file:\n",
    "        # Call load method to deserialze\n",
    "            myvar = pickle.load(file)\n",
    "        if outside_params is not None:\n",
    "            xgb_params={**myvar.best_params_,**outside_params}\n",
    "        else:\n",
    "            xgb_params=myvar.best_params_\n",
    "\n",
    "        wandb.init(project=\"transfer learning\", entity=\"otukenotuk\",config=myvar.best_params_,name=f\"no_tl_boostrapped_{name}_trial_{i}\",settings=wandb.Settings(start_method='thread'))\n",
    "        wandb.summary[\"nrow\"]=x_train.shape[0]\n",
    "        wandb.summary[\"y|x_cosine_similarity\"]=cosine_similarity(domain_regression.coef_,base_regression.coef_)\n",
    "        wandb.summary[\"0/1_ratio_abs_divergence\"]=abs_divergence\n",
    "        wandb.summary[\"x_dist_kl_divergence\"]=kl_divergence\n",
    "        model=xgb.XGBClassifier(**xgb_params,eval_metric=[\"auc\",\"logloss\",\"aucpr\"],early_stopping_rounds=20)\n",
    "        model.fit(x_train,\n",
    "        y_train,\n",
    "        eval_set=[(x_train,y_train),\n",
    "        (x_test,y_test)],callbacks=[WandbCallback()])\n",
    "        wandb.finish()\n",
    "        with open(f\"boostrap_no_tl_models/{name}\", 'wb') as file:\n",
    "        # A new file will be created\n",
    "            pickle.dump(model, file)\n",
    "        with open(f\"boostrap_data_samples/{name}_train_trial_{i}\", 'wb') as file:\n",
    "        # A new file will be created\n",
    "            pickle.dump(boostrapped_train, file)\n",
    "        with open(f\"boostrap_data_samples/{name}_test_trial_{i}\", 'wb') as file:\n",
    "        # A new file will be created\n",
    "            pickle.dump(boostrapped_test, file)\n",
    "        \n",
    "    #resutls_df=pd.DataFrame(result_dict)\n",
    "    #resutls_df.to_csv(f\"boostrap_characteristics/no_tl_{name}.csv\",index=False)\n",
    "    #return resutls_df"
   ]
  },
  {
   "cell_type": "code",
   "execution_count": null,
   "metadata": {},
   "outputs": [],
   "source": [
    "no_tl_boostrapped(train_data=credit_card_regression_train,\n",
    "test_data=credit_card_regression_test,\n",
    "base_data_x=debt_consolidation_regression_x,\n",
    "base_data_y=debt_consolidation_regression_y,\n",
    "n_trials=5,parameters_path=\"results/credit_card_notl_results1.pkl\",name=\"credit_card\",outside_params={\"n_estimators\":200})"
   ]
  },
  {
   "cell_type": "code",
   "execution_count": null,
   "metadata": {},
   "outputs": [],
   "source": [
    "no_tl_boostrapped(train_data=home_improvement_regression_train,\n",
    "test_data=home_improvement_regression_test,\n",
    "base_data_x=debt_consolidation_regression_x,\n",
    "base_data_y=debt_consolidation_regression_y,\n",
    "n_trials=5,parameters_path=\"results/home_improvement_notl_results1.pkl\",name=\"home_improvement\",outside_params={\"n_estimators\":200})"
   ]
  },
  {
   "cell_type": "code",
   "execution_count": null,
   "metadata": {},
   "outputs": [],
   "source": [
    "no_tl_boostrapped(train_data=other_regression_train,\n",
    "test_data=other_regression_test,\n",
    "base_data_x=debt_consolidation_regression_x,\n",
    "base_data_y=debt_consolidation_regression_y,\n",
    "n_trials=5,parameters_path=\"results/other_notl_results_deep.pkl\",name=\"other\",outside_params={\"n_estimators\":200})"
   ]
  },
  {
   "cell_type": "code",
   "execution_count": null,
   "metadata": {},
   "outputs": [],
   "source": [
    "no_tl_boostrapped(train_data=major_purchase_regression_train,\n",
    "test_data=major_purchase_regression_test,\n",
    "base_data_x=debt_consolidation_regression_x,\n",
    "base_data_y=debt_consolidation_regression_y,\n",
    "n_trials=5,parameters_path=\"results/major_purchase_notl_results_deep.pkl\",name=\"major_purchase\",outside_params={\"n_estimators\":200})"
   ]
  },
  {
   "cell_type": "code",
   "execution_count": null,
   "metadata": {},
   "outputs": [],
   "source": [
    "no_tl_boostrapped(train_data=medical_regression_train,\n",
    "test_data=medical_regression_test,\n",
    "base_data_x=debt_consolidation_regression_x,\n",
    "base_data_y=debt_consolidation_regression_y,\n",
    "n_trials=5,parameters_path=\"results/medical_notl_results_deep.pkl\",name=\"medical\",outside_params={\"n_estimators\":200})"
   ]
  },
  {
   "cell_type": "code",
   "execution_count": null,
   "metadata": {},
   "outputs": [],
   "source": [
    "no_tl_boostrapped(train_data=small_business_regression_train,\n",
    "test_data=small_business_regression_test,\n",
    "base_data_x=debt_consolidation_regression_x,\n",
    "base_data_y=debt_consolidation_regression_y,\n",
    "n_trials=5,parameters_path=\"results/small_business_notl_results_deep.pkl\",name=\"small_business\",outside_params={\"n_estimators\":200})"
   ]
  },
  {
   "cell_type": "code",
   "execution_count": null,
   "metadata": {},
   "outputs": [],
   "source": [
    "no_tl_boostrapped(train_data=car_regression_train,\n",
    "test_data=car_regression_test,\n",
    "base_data_x=debt_consolidation_regression_x,\n",
    "base_data_y=debt_consolidation_regression_y,\n",
    "n_trials=5,parameters_path=\"results/car_notl_results_deep.pkl\",name=\"car\",outside_params={\"n_estimators\":200})"
   ]
  },
  {
   "cell_type": "code",
   "execution_count": null,
   "metadata": {},
   "outputs": [],
   "source": [
    "no_tl_boostrapped(train_data=moving_regression_train,\n",
    "test_data=moving_regression_test,\n",
    "base_data_x=debt_consolidation_regression_x,\n",
    "base_data_y=debt_consolidation_regression_y,\n",
    "n_trials=5,parameters_path=\"results/moving_notl_results_deep.pkl\",name=\"moving\",outside_params={\"n_estimators\":200})"
   ]
  },
  {
   "cell_type": "code",
   "execution_count": null,
   "metadata": {},
   "outputs": [],
   "source": [
    "no_tl_boostrapped(train_data=vacation_regression_train,\n",
    "test_data=vacation_regression_test,\n",
    "base_data_x=debt_consolidation_regression_x,\n",
    "base_data_y=debt_consolidation_regression_y,\n",
    "n_trials=5,parameters_path=\"results/vacation_notl_results_deep.pkl\",name=\"vacation\",outside_params={\"n_estimators\":200})"
   ]
  },
  {
   "cell_type": "code",
   "execution_count": null,
   "metadata": {},
   "outputs": [],
   "source": [
    "no_tl_boostrapped(train_data=house_regression_train,\n",
    "test_data=house_regression_test,\n",
    "base_data_x=debt_consolidation_regression_x,\n",
    "base_data_y=debt_consolidation_regression_y,\n",
    "n_trials=5,parameters_path=\"results/house_notl_results_deep.pkl\",name=\"house\",outside_params={\"n_estimators\":200})"
   ]
  },
  {
   "cell_type": "code",
   "execution_count": null,
   "metadata": {},
   "outputs": [],
   "source": [
    "no_tl_boostrapped(train_data=wedding_train,\n",
    "test_data=wedding_test,\n",
    "base_data_x=debt_consolidation_regression_x,\n",
    "base_data_y=debt_consolidation_regression_y,\n",
    "n_trials=5,parameters_path=\"results/wedding_notl_results_deep.pkl\",name=\"wedding\",outside_params={\"n_estimators\":200})"
   ]
  },
  {
   "cell_type": "code",
   "execution_count": null,
   "metadata": {},
   "outputs": [],
   "source": [
    "no_tl_boostrapped(train_data=renewable_energy_regression_train,\n",
    "test_data=renewable_energy_regression_test,\n",
    "base_data_x=debt_consolidation_regression_x,\n",
    "base_data_y=debt_consolidation_regression_y,\n",
    "n_trials=5,parameters_path=\"results/renewable_energy_notl_results_deep.pkl\",name=\"renewable_energy\",outside_params={\"n_estimators\":200})"
   ]
  },
  {
   "cell_type": "code",
   "execution_count": null,
   "metadata": {},
   "outputs": [],
   "source": [
    "source_params={'subsample': 1.0,\n",
    " 'n_estimators': 30,\n",
    " 'max_depth': 6,\n",
    " 'eta': 0.14285714285714285,\n",
    " 'alpha': 0.07999999999999999}"
   ]
  },
  {
   "cell_type": "code",
   "execution_count": null,
   "metadata": {},
   "outputs": [],
   "source": [
    "source_model=xgb.XGBClassifier(**source_params,eval_metric=[\"auc\",\"logloss\",\"aucpr\"],early_stopping_rounds=20)\n",
    "source_model.fit(debt_consolidation_regression_train_x,\n",
    "debt_consolidation_regression_train_y,\n",
    "eval_set=[(debt_consolidation_regression_train_x,debt_consolidation_regression_train_y),\n",
    "(debt_consolidation_regression_test_x,debt_consolidation_regression_test_y)])"
   ]
  },
  {
   "cell_type": "code",
   "execution_count": null,
   "metadata": {},
   "outputs": [],
   "source": [
    "def tl_no_update_boostrapped(parameters_path,base_model,name,base_data_x,base_data_y,n_trials,outside_params=None):\n",
    "    scaler = StandardScaler()\n",
    "    scaler.fit(base_data_x)\n",
    "    base_data_x_scaled=scaler.transform(base_data_x)\n",
    "    base_regression=LogisticRegression(multi_class='ovr').fit(base_data_x_scaled, base_data_y)\n",
    "    base_mean_vector=np.mean(base_data_x,axis=0)\n",
    "    base_kde=gaussian_kde(base_data_x.transpose(), bw_method='silverman')\n",
    "    base_covariance=base_kde.covariance\n",
    "    base_neg_pos_ratio=(base_data_y.shape[0]-base_data_y.sum())/(base_data_y.sum())\n",
    "    \n",
    "    for i in range(n_trials):\n",
    "        with open(f\"boostrap_data_samples/{name}_train_trial_{i}\", 'rb') as file:\n",
    "        # Call load method to deserialze\n",
    "            domain_train = pickle.load(file)\n",
    "        with open(f\"boostrap_data_samples/{name}_test_trial_{i}\", 'rb') as file:\n",
    "        # Call load method to deserialze\n",
    "            domain_test = pickle.load(file)\n",
    "        \n",
    "        y_train,x_train=domain_train['loan_status'],domain_train.drop(['purpose','loan_status'],axis=1)\n",
    "        y_test,x_test=domain_test['loan_status'],domain_test.drop(['purpose','loan_status'],axis=1)\n",
    "        x_train_scaled=scaler.transform(x_train)\n",
    "        # Open the file in binary mode\n",
    "        scaler = StandardScaler()\n",
    "        scaler.fit(x_train)\n",
    "        #result_dict[\"nrow\"].append(x_train.shape[0])\n",
    "        domain_neg_pos_ratio=(y_train.shape[0]-y_train.sum())/(y_train.sum())\n",
    "        abs_divergence=abs(base_neg_pos_ratio-domain_neg_pos_ratio)\n",
    "        #result_dict[\"0/1_ratio_abs_divergence\"].append(abs_divergence)\n",
    "        domain_regression=LogisticRegression(multi_class='ovr').fit(x_train_scaled, y_train)\n",
    "        #result_dict[\"y|x_cosine_similarity\"].append(cosine_similarity(domain_regression.coef_,base_regression.coef_))\n",
    "        domain_mean_vector=np.mean(x_train,axis=0)\n",
    "        domain_kde=gaussian_kde(x_train.transpose(), bw_method='silverman')\n",
    "        domain_covariance=domain_kde.covariance\n",
    "        kl_divergence=kl_mvn(m0=base_mean_vector,S0=base_covariance,m1=domain_mean_vector,S1=domain_covariance)\n",
    "        \n",
    "        with open(parameters_path, 'rb') as file:\n",
    "        # Call load method to deserialze\n",
    "            myvar = pickle.load(file)\n",
    "\n",
    "        if outside_params is not None:\n",
    "            xgb_params={**myvar.best_params_,**outside_params}\n",
    "        else:\n",
    "            xgb_params=myvar.best_params_\n",
    "\n",
    "        wandb.init(project=\"transfer learning\", entity=\"otukenotuk\",config=myvar.best_params_,name=f\"tl_no_update_boostrapped_{name}_trial_{i}\",settings=wandb.Settings(start_method='thread'))\n",
    "        wandb.summary[\"nrow\"]=x_train.shape[0]\n",
    "        wandb.summary[\"y|x_cosine_similarity\"]=cosine_similarity(domain_regression.coef_,base_regression.coef_)\n",
    "        wandb.summary[\"0/1_ratio_abs_divergence\"]=abs_divergence\n",
    "        wandb.summary[\"x_dist_kl_divergence\"]=kl_divergence\n",
    "\n",
    "        model=xgb.XGBClassifier(**xgb_params,eval_metric=[\"auc\",\"logloss\",\"aucpr\"],early_stopping_rounds=20)\n",
    "        model.fit(x_train,\n",
    "        y_train,\n",
    "        eval_set=[(x_train,y_train),\n",
    "        (x_test,y_test)],callbacks=[WandbCallback()],xgb_model=base_model.get_booster())\n",
    "        wandb.finish()\n",
    "        with open(f\"boostrap_tl_nonupdate_models/{name}\", 'wb') as file:\n",
    "        # A new file will be created\n",
    "            pickle.dump(model, file)"
   ]
  },
  {
   "cell_type": "code",
   "execution_count": null,
   "metadata": {},
   "outputs": [],
   "source": [
    "tl_no_update_boostrapped(parameters_path=\"results_tl_nonupdate/credit_card_tl_model.pkl\",base_model=source_model,\n",
    "base_data_x=debt_consolidation_regression_x,\n",
    "base_data_y=debt_consolidation_regression_y,\n",
    "n_trials=5,name=\"credit_card\",outside_params={\"n_estimators\":200})"
   ]
  },
  {
   "cell_type": "code",
   "execution_count": null,
   "metadata": {},
   "outputs": [],
   "source": [
    "tl_no_update_boostrapped(parameters_path=\"results_tl_nonupdate/home_improvement_tl_model.pkl\",base_model=source_model,\n",
    "base_data_x=debt_consolidation_regression_x,\n",
    "base_data_y=debt_consolidation_regression_y,\n",
    "n_trials=5,name=\"home_improvement\",outside_params={\"n_estimators\":200})"
   ]
  },
  {
   "cell_type": "code",
   "execution_count": null,
   "metadata": {},
   "outputs": [],
   "source": [
    "tl_no_update_boostrapped(parameters_path=\"results_tl_nonupdate/other_tl_model.pkl\",base_model=source_model,\n",
    "base_data_x=debt_consolidation_regression_x,\n",
    "base_data_y=debt_consolidation_regression_y,\n",
    "n_trials=5,name=\"other\",outside_params={\"n_estimators\":200})"
   ]
  },
  {
   "cell_type": "code",
   "execution_count": null,
   "metadata": {},
   "outputs": [],
   "source": [
    "tl_no_update_boostrapped(parameters_path=\"results_tl_nonupdate/major_purchase_tl_model.pkl\",base_model=source_model,\n",
    "base_data_x=debt_consolidation_regression_x,\n",
    "base_data_y=debt_consolidation_regression_y,\n",
    "n_trials=5,name=\"major_purchase\",outside_params={\"n_estimators\":200})"
   ]
  },
  {
   "cell_type": "code",
   "execution_count": null,
   "metadata": {},
   "outputs": [],
   "source": [
    "tl_no_update_boostrapped(parameters_path=\"results_tl_nonupdate/medical_tl_model.pkl\",base_model=source_model,\n",
    "base_data_x=debt_consolidation_regression_x,\n",
    "base_data_y=debt_consolidation_regression_y,\n",
    "n_trials=5,name=\"medical\",outside_params={\"n_estimators\":200})"
   ]
  },
  {
   "cell_type": "code",
   "execution_count": null,
   "metadata": {},
   "outputs": [],
   "source": [
    "tl_no_update_boostrapped(parameters_path=\"results_tl_nonupdate/small_business_tl_model.pkl\",base_model=source_model,\n",
    "base_data_x=debt_consolidation_regression_x,\n",
    "base_data_y=debt_consolidation_regression_y,\n",
    "n_trials=5,name=\"small_business\",outside_params={\"n_estimators\":200})"
   ]
  },
  {
   "cell_type": "code",
   "execution_count": null,
   "metadata": {},
   "outputs": [],
   "source": [
    "tl_no_update_boostrapped(parameters_path=\"results_tl_nonupdate/car_tl_model.pkl\",base_model=source_model,\n",
    "base_data_x=debt_consolidation_regression_x,\n",
    "base_data_y=debt_consolidation_regression_y,\n",
    "n_trials=5,name=\"car\",outside_params={\"n_estimators\":200})"
   ]
  },
  {
   "cell_type": "code",
   "execution_count": null,
   "metadata": {},
   "outputs": [],
   "source": [
    "tl_no_update_boostrapped(parameters_path=\"results_tl_nonupdate/moving_tl_model.pkl\",base_model=source_model,\n",
    "base_data_x=debt_consolidation_regression_x,\n",
    "base_data_y=debt_consolidation_regression_y,\n",
    "n_trials=5,name=\"moving\",outside_params={\"n_estimators\":200})"
   ]
  },
  {
   "cell_type": "code",
   "execution_count": null,
   "metadata": {},
   "outputs": [],
   "source": [
    "tl_no_update_boostrapped(parameters_path=\"results_tl_nonupdate/vacation_tl_model.pkl\",base_model=source_model,\n",
    "base_data_x=debt_consolidation_regression_x,\n",
    "base_data_y=debt_consolidation_regression_y,\n",
    "n_trials=5,name=\"vacation\",outside_params={\"n_estimators\":200})"
   ]
  },
  {
   "cell_type": "code",
   "execution_count": null,
   "metadata": {},
   "outputs": [],
   "source": [
    "tl_no_update_boostrapped(parameters_path=\"results_tl_nonupdate/house_tl_model.pkl\",base_model=source_model,\n",
    "base_data_x=debt_consolidation_regression_x,\n",
    "base_data_y=debt_consolidation_regression_y,\n",
    "n_trials=5,name=\"house\",outside_params={\"n_estimators\":200})"
   ]
  },
  {
   "cell_type": "code",
   "execution_count": null,
   "metadata": {},
   "outputs": [],
   "source": [
    "tl_no_update_boostrapped(parameters_path=\"results_tl_nonupdate/wedding_tl_model.pkl\",base_model=source_model,\n",
    "base_data_x=debt_consolidation_regression_x,\n",
    "base_data_y=debt_consolidation_regression_y,\n",
    "n_trials=5,name=\"wedding\",outside_params={\"n_estimators\":200})"
   ]
  },
  {
   "cell_type": "code",
   "execution_count": null,
   "metadata": {},
   "outputs": [],
   "source": [
    "tl_no_update_boostrapped(parameters_path=\"results_tl_nonupdate/renewable_energy_tl_model.pkl\",base_model=source_model,\n",
    "base_data_x=debt_consolidation_regression_x,\n",
    "base_data_y=debt_consolidation_regression_y,\n",
    "n_trials=5,name=\"renewable_energy\",outside_params={\"n_estimators\":200})"
   ]
  },
  {
   "cell_type": "code",
   "execution_count": null,
   "metadata": {},
   "outputs": [],
   "source": [
    "def tl_no_update_boostrapped(parameters_path,base_model,name,base_data_x,base_data_y,n_trials,outside_params=None):\n",
    "    scaler = StandardScaler()\n",
    "    scaler.fit(base_data_x)\n",
    "    base_data_x_scaled=scaler.transform(base_data_x)\n",
    "    base_regression=LogisticRegression(multi_class='ovr').fit(base_data_x_scaled, base_data_y)\n",
    "    base_mean_vector=np.mean(base_data_x,axis=0)\n",
    "    base_kde=gaussian_kde(base_data_x.transpose(), bw_method='silverman')\n",
    "    base_covariance=base_kde.covariance\n",
    "    base_neg_pos_ratio=(base_data_y.shape[0]-base_data_y.sum())/(base_data_y.sum())\n",
    "    \n",
    "    for i in range(n_trials):\n",
    "        with open(f\"boostrap_data_samples/{name}_train_trial_{i}\", 'rb') as file:\n",
    "        # Call load method to deserialze\n",
    "            domain_train = pickle.load(file)\n",
    "        with open(f\"boostrap_data_samples/{name}_test_trial_{i}\", 'rb') as file:\n",
    "        # Call load method to deserialze\n",
    "            domain_test = pickle.load(file)\n",
    "        \n",
    "        y_train,x_train=domain_train['loan_status'],domain_train.drop(['purpose','loan_status'],axis=1)\n",
    "        y_test,x_test=domain_test['loan_status'],domain_test.drop(['purpose','loan_status'],axis=1)\n",
    "        x_train_scaled=scaler.transform(x_train)\n",
    "        # Open the file in binary mode\n",
    "        scaler = StandardScaler()\n",
    "        scaler.fit(x_train)\n",
    "        #result_dict[\"nrow\"].append(x_train.shape[0])\n",
    "        domain_neg_pos_ratio=(y_train.shape[0]-y_train.sum())/(y_train.sum())\n",
    "        abs_divergence=abs(base_neg_pos_ratio-domain_neg_pos_ratio)\n",
    "        #result_dict[\"0/1_ratio_abs_divergence\"].append(abs_divergence)\n",
    "        domain_regression=LogisticRegression(multi_class='ovr').fit(x_train_scaled, y_train)\n",
    "        #result_dict[\"y|x_cosine_similarity\"].append(cosine_similarity(domain_regression.coef_,base_regression.coef_))\n",
    "        domain_mean_vector=np.mean(x_train,axis=0)\n",
    "        domain_kde=gaussian_kde(x_train.transpose(), bw_method='silverman')\n",
    "        domain_covariance=domain_kde.covariance\n",
    "        kl_divergence=kl_mvn(m0=base_mean_vector,S0=base_covariance,m1=domain_mean_vector,S1=domain_covariance)\n",
    "        \n",
    "        with open(parameters_path, 'rb') as file:\n",
    "        # Call load method to deserialze\n",
    "            myvar = pickle.load(file)\n",
    "\n",
    "        if outside_params is not None:\n",
    "            xgb_params={**myvar.best_params_,**outside_params}\n",
    "        else:\n",
    "            xgb_params=myvar.best_params_\n",
    "\n",
    "        wandb.init(project=\"transfer learning\", entity=\"otukenotuk\",config=myvar.best_params_,name=f\"tl_no_update_boostrapped_{name}_trial_{i}\",settings=wandb.Settings(start_method='thread'))\n",
    "        wandb.summary[\"nrow\"]=x_train.shape[0]\n",
    "        wandb.summary[\"y|x_cosine_similarity\"]=cosine_similarity(domain_regression.coef_,base_regression.coef_)\n",
    "        wandb.summary[\"0/1_ratio_abs_divergence\"]=abs_divergence\n",
    "        wandb.summary[\"x_dist_kl_divergence\"]=kl_divergence\n",
    "\n",
    "        model=xgb.XGBClassifier(**xgb_params,eval_metric=[\"auc\",\"logloss\",\"aucpr\"],early_stopping_rounds=20)\n",
    "        model.fit(x_train,\n",
    "        y_train,\n",
    "        eval_set=[(x_train,y_train),\n",
    "        (x_test,y_test)],callbacks=[WandbCallback()],xgb_model=base_model.get_booster())\n",
    "        wandb.finish()\n",
    "        with open(f\"boostrap_tl_nonupdate_models/{name}\", 'wb') as file:\n",
    "        # A new file will be created\n",
    "            pickle.dump(model, file)"
   ]
  },
  {
   "cell_type": "code",
   "execution_count": null,
   "metadata": {},
   "outputs": [],
   "source": [
    "source_tl={'subsample': 1.0,\n",
    " 'max_depth': 6,\n",
    " 'eta': 0.14285714285714285,\n",
    " 'alpha': 0.07999999999999999}"
   ]
  },
  {
   "cell_type": "code",
   "execution_count": null,
   "metadata": {},
   "outputs": [],
   "source": [
    "def multiround_revising(num_rounds,source_params,x_source,y_source,x_target,y_target,min_split_loss=1,min_child_weight=5):\n",
    "    dtrain_target=xgb.DMatrix(x_target, y_target)\n",
    "    for i in range(num_rounds):\n",
    "        if i==0:\n",
    "   \n",
    "            source_model=xgb.XGBClassifier(**source_params,n_estimators=1)\n",
    "            source_model.fit(x_source,y_source)\n",
    "\n",
    "        else:\n",
    "\n",
    "            source_model.fit(x_source,y_source,xgb_model=pruned_trees)\n",
    "\n",
    "        refreshed_trees=xgb.train({\"process_type\": \"update\", \"updater\": \"refresh\", \"refresh_leaf\": True},\n",
    "        dtrain=dtrain_target,num_boost_round=i+1,xgb_model=source_model.get_booster())\n",
    "\n",
    "        pruned_trees = xgb.train(\n",
    "        {\"process_type\": \"update\", \"updater\": \"prune\",\"min_split_loss\":min_split_loss,\"min_child_weight\":min_child_weight},\n",
    "        dtrain=dtrain_target,\n",
    "        num_boost_round=i+1,\n",
    "        xgb_model=refreshed_trees)       \n",
    "    return pruned_trees"
   ]
  },
  {
   "cell_type": "code",
   "execution_count": null,
   "metadata": {},
   "outputs": [],
   "source": [
    "def tl_update_boostrapped(name,n_trials,parameters_path,base_data_x,base_data_y,min_split_loss,min_child_weight,source_tl,outside_params=None,):\n",
    "    scaler = StandardScaler()\n",
    "    scaler.fit(base_data_x)\n",
    "    base_data_x_scaled=scaler.transform(base_data_x)\n",
    "    base_regression=LogisticRegression(multi_class='ovr').fit(base_data_x_scaled, base_data_y)\n",
    "    base_mean_vector=np.mean(base_data_x,axis=0)\n",
    "    base_kde=gaussian_kde(base_data_x.transpose(), bw_method='silverman')\n",
    "    base_covariance=base_kde.covariance\n",
    "    base_neg_pos_ratio=(base_data_y.shape[0]-base_data_y.sum())/(base_data_y.sum())\n",
    "    for i in range(n_trials):\n",
    "        with open(f\"boostrap_data_samples/{name}_train_trial_{i}\", 'rb') as file:\n",
    "        # Call load method to deserialze\n",
    "            domain_train = pickle.load(file)\n",
    "        with open(f\"boostrap_data_samples/{name}_test_trial_{i}\", 'rb') as file:\n",
    "        # Call load method to deserialze\n",
    "            domain_test = pickle.load(file)\n",
    "        \n",
    "        y_train,x_train=domain_train['loan_status'],domain_train.drop(['purpose','loan_status'],axis=1)\n",
    "        y_test,x_test=domain_test['loan_status'],domain_test.drop(['purpose','loan_status'],axis=1)\n",
    "        scaler = StandardScaler()\n",
    "        scaler.fit(x_train)\n",
    "        x_train_scaled=scaler.transform(x_train)\n",
    "        domain_neg_pos_ratio=(y_train.shape[0]-y_train.sum())/(y_train.sum())\n",
    "        abs_divergence=abs(base_neg_pos_ratio-domain_neg_pos_ratio)\n",
    "        #result_dict[\"0/1_ratio_abs_divergence\"].append(abs_divergence)\n",
    "        domain_regression=LogisticRegression(multi_class='ovr').fit(x_train_scaled, y_train)\n",
    "        #result_dict[\"y|x_cosine_similarity\"].append(cosine_similarity(domain_regression.coef_,base_regression.coef_))\n",
    "        domain_mean_vector=np.mean(x_train,axis=0)\n",
    "        domain_kde=gaussian_kde(x_train.transpose(), bw_method='silverman')\n",
    "        domain_covariance=domain_kde.covariance\n",
    "        kl_divergence=kl_mvn(m0=base_mean_vector,S0=base_covariance,m1=domain_mean_vector,S1=domain_covariance)\n",
    "        \n",
    "        # Open the file in binary mode\n",
    "        with open(parameters_path, 'rb') as file:\n",
    "            # Call load method to deserialze\n",
    "            myvar = pickle.load(file)\n",
    "\n",
    "        if outside_params is not None:\n",
    "            xgb_params={**myvar.best_params_,**outside_params}\n",
    "        else:\n",
    "            xgb_params=myvar.best_params_\n",
    "\n",
    "        wandb.init(project=\"transfer learning\", entity=\"otukenotuk\",config=myvar.best_params_,name=f\"tl_update_boostrapped_{name}_trial_{i}\",settings=wandb.Settings(start_method='thread'))\n",
    "        wandb.summary[\"nrow\"]=x_train.shape[0]\n",
    "        wandb.summary[\"y|x_cosine_similarity\"]=cosine_similarity(domain_regression.coef_,base_regression.coef_)\n",
    "        wandb.summary[\"0/1_ratio_abs_divergence\"]=abs_divergence\n",
    "        wandb.summary[\"x_dist_kl_divergence\"]=kl_divergence\n",
    "\n",
    "        updated_source=multiround_revising(num_rounds=30,source_params=source_tl,x_source=base_data_x,y_source=base_data_y,x_target=x_train,y_target=y_train,min_split_loss=min_split_loss,min_child_weight=min_child_weight)\n",
    "        model=xgb.XGBClassifier(**xgb_params,eval_metric=[\"auc\",\"logloss\",\"aucpr\"],early_stopping_rounds=20)\n",
    "        model.fit(x_train,\n",
    "        y_train,\n",
    "        eval_set=[(x_train,y_train),\n",
    "        (x_test,y_test)],callbacks=[WandbCallback()],xgb_model=updated_source)\n",
    "        wandb.finish()\n",
    "        with open(f\"boostrap_tl_update_models/{name}\", 'wb') as file:\n",
    "        # A new file will be created\n",
    "            pickle.dump(model, file)"
   ]
  },
  {
   "cell_type": "code",
   "execution_count": null,
   "metadata": {},
   "outputs": [],
   "source": [
    "tl_update_boostrapped(parameters_path=\"results_tl_update/credit_card_tl_model.pkl\",min_split_loss=1.5,\n",
    "min_child_weight=1,source_tl=source_tl,\n",
    "base_data_x=debt_consolidation_regression_x,\n",
    "base_data_y=debt_consolidation_regression_y,\n",
    "n_trials=5,name=\"credit_card\",outside_params={\"n_estimators\":200})\n",
    "        "
   ]
  },
  {
   "cell_type": "code",
   "execution_count": null,
   "metadata": {},
   "outputs": [],
   "source": [
    "tl_update_boostrapped(parameters_path=\"results_tl_update/home_improvement_tl_model.pkl\",min_split_loss=0.3,\n",
    "min_child_weight=1,source_tl=source_tl,\n",
    "base_data_x=debt_consolidation_regression_x,\n",
    "base_data_y=debt_consolidation_regression_y,\n",
    "n_trials=5,name=\"home_improvement\",outside_params={\"n_estimators\":200})"
   ]
  },
  {
   "cell_type": "code",
   "execution_count": null,
   "metadata": {},
   "outputs": [],
   "source": [
    "tl_update_boostrapped(parameters_path=\"results_tl_update/other_tl_model.pkl\",min_split_loss=0.3,\n",
    "min_child_weight=1,source_tl=source_tl,\n",
    "base_data_x=debt_consolidation_regression_x,\n",
    "base_data_y=debt_consolidation_regression_y,\n",
    "n_trials=5,name=\"other\",outside_params={\"n_estimators\":200})"
   ]
  },
  {
   "cell_type": "code",
   "execution_count": null,
   "metadata": {},
   "outputs": [],
   "source": [
    "tl_update_boostrapped(parameters_path=\"results_tl_update/major_purchase_tl_model.pkl\",min_split_loss=2,\n",
    "min_child_weight=1,source_tl=source_tl,\n",
    "base_data_x=debt_consolidation_regression_x,\n",
    "base_data_y=debt_consolidation_regression_y,\n",
    "n_trials=5,name=\"major_purchase\",outside_params={\"n_estimators\":200})"
   ]
  },
  {
   "cell_type": "code",
   "execution_count": null,
   "metadata": {},
   "outputs": [],
   "source": [
    "tl_update_boostrapped(parameters_path=\"results_tl_update/medical_tl_model.pkl\",min_split_loss=4,\n",
    "min_child_weight=1,source_tl=source_tl,\n",
    "base_data_x=debt_consolidation_regression_x,\n",
    "base_data_y=debt_consolidation_regression_y,\n",
    "n_trials=5,name=\"medical\",outside_params={\"n_estimators\":200})"
   ]
  },
  {
   "cell_type": "code",
   "execution_count": null,
   "metadata": {},
   "outputs": [],
   "source": [
    "tl_update_boostrapped(parameters_path=\"results_tl_update/small_business_tl_model.pkl\",min_split_loss=0.0001,\n",
    "min_child_weight=1,source_tl=source_tl,\n",
    "base_data_x=debt_consolidation_regression_x,\n",
    "base_data_y=debt_consolidation_regression_y,\n",
    "n_trials=5,name=\"small_business\",outside_params={\"n_estimators\":200})"
   ]
  },
  {
   "cell_type": "code",
   "execution_count": null,
   "metadata": {},
   "outputs": [],
   "source": [
    "tl_update_boostrapped(parameters_path=\"results_tl_update/car_tl_model.pkl\",min_split_loss=0.03,\n",
    "min_child_weight=1,source_tl=source_tl,\n",
    "base_data_x=debt_consolidation_regression_x,\n",
    "base_data_y=debt_consolidation_regression_y,\n",
    "n_trials=5,name=\"car\",outside_params={\"n_estimators\":200})"
   ]
  },
  {
   "cell_type": "code",
   "execution_count": null,
   "metadata": {},
   "outputs": [],
   "source": [
    "tl_update_boostrapped(parameters_path=\"results_tl_update/moving_tl_model.pkl\",min_split_loss=0.001,\n",
    "min_child_weight=2,source_tl=source_tl,\n",
    "base_data_x=debt_consolidation_regression_x,\n",
    "base_data_y=debt_consolidation_regression_y,\n",
    "n_trials=5,name=\"moving\",outside_params={\"n_estimators\":200})"
   ]
  },
  {
   "cell_type": "code",
   "execution_count": null,
   "metadata": {},
   "outputs": [],
   "source": [
    "tl_update_boostrapped(parameters_path=\"results_tl_update/vacation_tl_model.pkl\",min_split_loss=1,\n",
    "min_child_weight=2,source_tl=source_tl,\n",
    "base_data_x=debt_consolidation_regression_x,\n",
    "base_data_y=debt_consolidation_regression_y,\n",
    "n_trials=5,name=\"vacation\",outside_params={\"n_estimators\":200})"
   ]
  },
  {
   "cell_type": "code",
   "execution_count": null,
   "metadata": {},
   "outputs": [],
   "source": [
    "tl_update_boostrapped(parameters_path=\"results_tl_update/house_tl_model.pkl\",min_split_loss=0.00000001,\n",
    "min_child_weight=1,source_tl=source_tl,\n",
    "base_data_x=debt_consolidation_regression_x,\n",
    "base_data_y=debt_consolidation_regression_y,\n",
    "n_trials=5,name=\"house\",outside_params={\"n_estimators\":200})"
   ]
  },
  {
   "cell_type": "code",
   "execution_count": null,
   "metadata": {},
   "outputs": [],
   "source": [
    "tl_update_boostrapped(parameters_path=\"results_tl_update/wedding_tl_model.pkl\",min_split_loss=0.3,\n",
    "min_child_weight=1,source_tl=source_tl,\n",
    "base_data_x=debt_consolidation_regression_x,\n",
    "base_data_y=debt_consolidation_regression_y,\n",
    "n_trials=5,name=\"wedding\",outside_params={\"n_estimators\":200})"
   ]
  },
  {
   "cell_type": "code",
   "execution_count": null,
   "metadata": {},
   "outputs": [],
   "source": [
    "tl_update_boostrapped(parameters_path=\"results_tl_update/renewable_energy_tl_model.pkl\",min_split_loss=0.1,\n",
    "min_child_weight=1,source_tl=source_tl,\n",
    "base_data_x=debt_consolidation_regression_x,\n",
    "base_data_y=debt_consolidation_regression_y,\n",
    "n_trials=5,name=\"renewable_energy\",outside_params={\"n_estimators\":200})"
   ]
  }
 ],
 "metadata": {
  "interpreter": {
   "hash": "2573e0d14c1182e6ab532e17c2db583fd4b314e4563ab3ceb8da5d965ab0d85e"
  },
  "kernelspec": {
   "display_name": "Python 3.8.12 ('transfer_learning')",
   "language": "python",
   "name": "python3"
  },
  "language_info": {
   "codemirror_mode": {
    "name": "ipython",
    "version": 3
   },
   "file_extension": ".py",
   "mimetype": "text/x-python",
   "name": "python",
   "nbconvert_exporter": "python",
   "pygments_lexer": "ipython3",
   "version": "3.8.12"
  },
  "orig_nbformat": 4
 },
 "nbformat": 4,
 "nbformat_minor": 2
}
