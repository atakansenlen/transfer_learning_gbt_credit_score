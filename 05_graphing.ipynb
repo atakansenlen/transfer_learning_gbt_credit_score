{
 "cells": [
  {
   "cell_type": "code",
   "execution_count": null,
   "metadata": {},
   "outputs": [],
   "source": [
    "import pandas as pd\n",
    "import matplotlib.pyplot as plt\n",
    "import numpy as np\n",
    "from sklearn.preprocessing import StandardScaler\n",
    "from sklearn.linear_model import LinearRegression"
   ]
  },
  {
   "cell_type": "code",
   "execution_count": null,
   "metadata": {},
   "outputs": [],
   "source": [
    "results_dictionary={}\n",
    "results_dictionary[\"domain\"]=[\"credit_card\",\"home_improvement\",\"other\",\"major_purchase\",\"medical\",\"small_business\",\n",
    "\"car\",\"moving\",\"vacation\",\"house\",\"wedding\",\"renewable_energy\"]\n",
    "results_dictionary[\"n_row\"]=[282381,79851,70965,25833,14278,12437,12403,8570,8438,6416,1218,801]\n",
    "results_dictionary[\"y|x_cosine_similarity\"]=[0.96,0.91,0.80,0.91,0.86,0.40,0.82,0.74,0.72,0.83,0.26,0.27]\n",
    "results_dictionary[\"x_dist_kl_divergence\"]=[0.11,0.38,0.36,0.42,0.64,0.86,0.57,1.59,0.91,0.83,2.63,1.63]\n",
    "results_dictionary[\"0/1_ratio_abs_divergence\"]=[1.16,0.83,0.02,0.45,0.16,1.40,1.81,0.52,0.46,0.32,2.66,0.55]\n",
    "results_dictionary[\"auc_lift_with_best_tl_model\"]=[0.01,0.003,0.003,0.007,0.012,0.014,0.011,0.006,0.017,0.004,-0.046,0.044]\n",
    "results_dictionary[\"aucpr_lift_with_best_tl_model\"]=[0.004,0.005,0.008,0.01,0.025,0.011,0.027,0.007,0.006,0.026,-0.086,0.02]\n",
    "results_dictionary[\"percent_auc_lift_best_tl_model\"]=[1.39,0.42,0.43,0.97,1.78,2.10,1.53,0.85,2.50,0.56,-6.38,7.17]\n",
    "results_dictionary[\"percent_aucpr_lift_best_tl_model\"]=[1.17,1.41,2.14,2.58,7.40,2.30,9.41,1.72,1.66,6.24,-26.22,4.81]\n",
    "results_dictionary[\"auc_no_tl\"]=[0.72,0.717,0.697,0.719,0.674,0.668,0.717,0.707,0.679,0.712,0.721,0.614]\n",
    "results_dictionary[\"aucpr_no_tl\"]=[0.343,0.354,0.374,0.388,0.338,0.479,0.287,0.408,0.362,0.417,0.328,0.416]\n",
    "results_dictionary[\"auc_tl_without_update\"]=[0.73,0.72,0.700,0.726,0.686,0.682,0.728,0.713,0.681,0.716,0.675,0.658]\n",
    "results_dictionary[\"aucpr_tl_without_update\"]=[0.347,0.359,0.382,0.398,0.358,0.490,0.314,0.415,0.368,0.443,0.242,0.436]\n",
    "results_dictionary[\"auc_tl_update\"]=[0.730,0.719,0.700,0.721,0.684,0.674,0.717,0.704,0.696,0.692,0.644,0.596]\n",
    "results_dictionary[\"aucpr_tl_update\"]=[0.345,0.354,0.382,0.395,0.363,0.486,0.292,0.397,0.357,0.397,0.233,0.367]"
   ]
  },
  {
   "cell_type": "code",
   "execution_count": null,
   "metadata": {},
   "outputs": [],
   "source": [
    "results_df=pd.DataFrame(results_dictionary)\n",
    "results_df"
   ]
  },
  {
   "cell_type": "code",
   "execution_count": null,
   "metadata": {},
   "outputs": [],
   "source": [
    "#y|x cosine similarity\n",
    "plt.style.use(\"fivethirtyeight\")\n",
    "plt.figure(figsize=(20, 10))\n",
    "color = iter(plt.rainbow(np.linspace(0, 1, 3)))\n",
    "c = next(color)\n",
    "plt.plot(results_df[\"y|x_cosine_similarity\"],results_df[\"auc_lift_with_best_tl_model\"], label=' Number of Clusters:%s' % str(cluster),c=c)\n",
    "c = next(color)\n",
    "plt.plot(my_job_cluster_numbers,my_mse_values[index], label=' Number of Clusters:%s' % str(cluster),c=c)\n",
    "c = next(color)\n",
    "plt.plot(my_job_cluster_numbers,my_mse_values[index], label=' Number of Clusters:%s' % str(cluster),c=c)\n",
    "plt.xlabel(\"Number of Job Clusters\")\n",
    "plt.ylabel(\"SSE\")\n",
    "plt.title('SSE Job Clusters vs Nr of Job Clusters for Each Number of Word Cluster')\n",
    "plt.legend(loc='upper right',fontsize='medium',markerscale=0.7)\n",
    "plt.show()"
   ]
  },
  {
   "cell_type": "code",
   "execution_count": null,
   "metadata": {},
   "outputs": [],
   "source": [
    "#y|x cosine similarity\n",
    "plt.style.use(\"fivethirtyeight\")\n",
    "plt.figure(figsize=(10, 5))\n",
    "plt.scatter(results_df[\"y|x_cosine_similarity\"],results_df[\"auc_lift_with_best_tl_model\"],marker='o',color='b',linestyle='-')\n",
    "plt.xlabel(\"Cosine Similarity\")\n",
    "plt.ylabel(\"AUC Lift\")\n",
    "plt.title('AUC Lift vs Cosine Similarity Y|X Regression Coefficients by Best TL Model')\n",
    "plt.show()"
   ]
  },
  {
   "cell_type": "code",
   "execution_count": null,
   "metadata": {},
   "outputs": [],
   "source": [
    "my_rho = np.corrcoef(results_df[\"y|x_cosine_similarity\"],results_df[\"auc_lift_with_best_tl_model\"])\n",
    "my_rho"
   ]
  },
  {
   "cell_type": "code",
   "execution_count": null,
   "metadata": {},
   "outputs": [],
   "source": [
    "#y|x cosine similarity\n",
    "plt.style.use(\"fivethirtyeight\")\n",
    "plt.figure(figsize=(10, 5))\n",
    "plt.scatter(results_df[\"y|x_cosine_similarity\"],results_df[\"percent_auc_lift_best_tl_model\"],marker='o',color='b',linestyle='-')\n",
    "plt.xlabel(\"Cosine Similarity\")\n",
    "plt.ylabel(\"AUC Lift\")\n",
    "plt.title('AUC Lift vs Cosine Similarity Y|X Regression Coefficients by Best TL Model')\n",
    "plt.show()"
   ]
  },
  {
   "cell_type": "code",
   "execution_count": null,
   "metadata": {},
   "outputs": [],
   "source": [
    "#y|x cosine similarity\n",
    "plt.style.use(\"fivethirtyeight\")\n",
    "plt.figure(figsize=(10, 5))\n",
    "plt.scatter(results_df[\"x_dist_kl_divergence\"],results_df[\"auc_lift_with_best_tl_model\"],marker='o',color='b',linestyle='-')\n",
    "plt.xlabel(\"KL Divergence\")\n",
    "plt.ylabel(\"AUC Lift\")\n",
    "plt.title('AUC Lift vs KL Divergence by Best TL Model')\n",
    "plt.show()"
   ]
  },
  {
   "cell_type": "code",
   "execution_count": null,
   "metadata": {},
   "outputs": [],
   "source": [
    "my_rho = np.corrcoef(results_df[\"x_dist_kl_divergence\"],results_df[\"auc_lift_with_best_tl_model\"])\n",
    "my_rho"
   ]
  },
  {
   "cell_type": "code",
   "execution_count": null,
   "metadata": {},
   "outputs": [],
   "source": [
    "#y|x cosine similarity\n",
    "plt.style.use(\"fivethirtyeight\")\n",
    "plt.figure(figsize=(10, 5))\n",
    "plt.scatter(results_df[\"x_dist_kl_divergence\"],results_df[\"percent_auc_lift_best_tl_model\"],marker='o',color='b',linestyle='-')\n",
    "plt.xlabel(\"KL Divergence\")\n",
    "plt.ylabel(\"AUC Lift\")\n",
    "plt.title('AUC Lift vs KL Divergence by Best TL Model')\n",
    "plt.show()"
   ]
  },
  {
   "cell_type": "code",
   "execution_count": null,
   "metadata": {},
   "outputs": [],
   "source": [
    "#y|x cosine similarity\n",
    "plt.style.use(\"fivethirtyeight\")\n",
    "plt.figure(figsize=(10, 5))\n",
    "plt.scatter(results_df[\"n_row\"],results_df[\"auc_lift_with_best_tl_model\"],marker='o',color='b',linestyle='-')\n",
    "plt.xlabel(\"Number of Observations\")\n",
    "plt.ylabel(\"AUC Lift\")\n",
    "plt.title('AUC Lift vs Number of Observations by Best TL Model')\n",
    "plt.show()"
   ]
  },
  {
   "cell_type": "code",
   "execution_count": null,
   "metadata": {},
   "outputs": [],
   "source": [
    "my_rho = np.corrcoef(results_df[\"n_row\"],results_df[\"auc_lift_with_best_tl_model\"])\n",
    "my_rho"
   ]
  },
  {
   "cell_type": "code",
   "execution_count": null,
   "metadata": {},
   "outputs": [],
   "source": [
    "#y|x cosine similarity\n",
    "plt.style.use(\"fivethirtyeight\")\n",
    "plt.figure(figsize=(10, 5))\n",
    "plt.scatter(results_df[\"0/1_ratio_abs_divergence\"],results_df[\"auc_lift_with_best_tl_model\"],marker='o',color='b',linestyle='-')\n",
    "plt.xlabel(\"Label Ratio Drift\")\n",
    "plt.ylabel(\"AUC Lift\")\n",
    "plt.title('AUC Lift vs Label Ratio Drift by Best TL Model')\n",
    "plt.show()"
   ]
  },
  {
   "cell_type": "code",
   "execution_count": null,
   "metadata": {},
   "outputs": [],
   "source": [
    "my_rho = np.corrcoef(results_df[\"0/1_ratio_abs_divergence\"],results_df[\"auc_lift_with_best_tl_model\"])\n",
    "my_rho"
   ]
  },
  {
   "cell_type": "code",
   "execution_count": null,
   "metadata": {},
   "outputs": [],
   "source": [
    "#y|x cosine similarity\n",
    "plt.style.use(\"fivethirtyeight\")\n",
    "plt.figure(figsize=(10, 5))\n",
    "plt.scatter(results_df[\"y|x_cosine_similarity\"],results_df[\"aucpr_lift_with_best_tl_model\"],marker='o',color='b',linestyle='-')\n",
    "plt.xlabel(\"Cosine Similarity\")\n",
    "plt.ylabel(\"AUCPR Lift\")\n",
    "plt.title('AUCPR Lift vs Cosine Similarity Y|X Regression Coefficients by Best TL Model')\n",
    "plt.show()"
   ]
  },
  {
   "cell_type": "code",
   "execution_count": null,
   "metadata": {},
   "outputs": [],
   "source": [
    "my_rho = np.corrcoef(results_df[\"y|x_cosine_similarity\"],results_df[\"aucpr_lift_with_best_tl_model\"])\n",
    "my_rho"
   ]
  },
  {
   "cell_type": "code",
   "execution_count": null,
   "metadata": {},
   "outputs": [],
   "source": [
    "#y|x cosine similarity\n",
    "plt.style.use(\"fivethirtyeight\")\n",
    "plt.figure(figsize=(10, 5))\n",
    "plt.scatter(results_df[\"x_dist_kl_divergence\"],results_df[\"aucpr_lift_with_best_tl_model\"],marker='o',color='b',linestyle='-')\n",
    "plt.xlabel(\"KL Divergence\")\n",
    "plt.ylabel(\"AUCPR Lift\")\n",
    "plt.title('AUCPR Lift vs KL Divergence by Best TL Model')\n",
    "plt.show()"
   ]
  },
  {
   "cell_type": "code",
   "execution_count": null,
   "metadata": {},
   "outputs": [],
   "source": [
    "my_rho = np.corrcoef(results_df[\"x_dist_kl_divergence\"],results_df[\"aucpr_lift_with_best_tl_model\"])\n",
    "my_rho"
   ]
  },
  {
   "cell_type": "code",
   "execution_count": null,
   "metadata": {},
   "outputs": [],
   "source": [
    "#y|x cosine similarity\n",
    "plt.style.use(\"fivethirtyeight\")\n",
    "plt.figure(figsize=(10, 5))\n",
    "plt.scatter(results_df[\"n_row\"],results_df[\"aucpr_lift_with_best_tl_model\"],marker='o',color='b',linestyle='-')\n",
    "plt.xlabel(\"Number of Observations\")\n",
    "plt.ylabel(\"AUCPR Lift\")\n",
    "plt.title('AUCPR Lift vs Number of Observations by Best TL Model')\n",
    "plt.show()"
   ]
  },
  {
   "cell_type": "code",
   "execution_count": null,
   "metadata": {},
   "outputs": [],
   "source": [
    "my_rho = np.corrcoef(results_df[\"n_row\"],results_df[\"aucpr_lift_with_best_tl_model\"])\n",
    "my_rho"
   ]
  },
  {
   "cell_type": "code",
   "execution_count": null,
   "metadata": {},
   "outputs": [],
   "source": [
    "#y|x cosine similarity\n",
    "plt.style.use(\"fivethirtyeight\")\n",
    "plt.figure(figsize=(10, 5))\n",
    "plt.scatter(results_df[\"0/1_ratio_abs_divergence\"],results_df[\"aucpr_lift_with_best_tl_model\"],marker='o',color='b',linestyle='-')\n",
    "plt.xlabel(\"Label Ratio Drift\")\n",
    "plt.ylabel(\"AUCPR Lift\")\n",
    "plt.title('AUCPR Lift vs Label Ratio Drift by Best TL Model')\n",
    "plt.show()"
   ]
  },
  {
   "cell_type": "code",
   "execution_count": null,
   "metadata": {},
   "outputs": [],
   "source": [
    "my_rho = np.corrcoef(results_df[\"0/1_ratio_abs_divergence\"],results_df[\"aucpr_lift_with_best_tl_model\"])\n",
    "my_rho"
   ]
  },
  {
   "cell_type": "code",
   "execution_count": null,
   "metadata": {},
   "outputs": [],
   "source": [
    "from sklearn.linear_model import LogisticRegression"
   ]
  },
  {
   "cell_type": "code",
   "execution_count": null,
   "metadata": {},
   "outputs": [],
   "source": [
    "results_df"
   ]
  },
  {
   "cell_type": "code",
   "execution_count": null,
   "metadata": {},
   "outputs": [],
   "source": [
    "x=results_df.drop([\"domain\",\"auc_lift_with_best_tl_model\",\"aucpr_lift_with_best_tl_model\",\"percent_auc_lift_best_tl_model\",\"percent_aucpr_lift_best_tl_model\",\"auc_no_tl\",\"aucpr_no_tl\",\"auc_tl_without_update\",\"aucpr_tl_without_update\",\"auc_tl_update\",\"aucpr_tl_update\"],axis=1)\n",
    "x"
   ]
  },
  {
   "cell_type": "code",
   "execution_count": null,
   "metadata": {},
   "outputs": [],
   "source": [
    "y_auc=results_df[\"auc_lift_with_best_tl_model\"]\n",
    "y_aucpr=results_df[\"aucpr_lift_with_best_tl_model\"]"
   ]
  },
  {
   "cell_type": "code",
   "execution_count": null,
   "metadata": {},
   "outputs": [],
   "source": [
    "from sklearn.preprocessing import StandardScaler"
   ]
  },
  {
   "cell_type": "code",
   "execution_count": null,
   "metadata": {},
   "outputs": [],
   "source": [
    "scaler = StandardScaler()\n",
    "scaler.fit(x)\n",
    "x_scaled=scaler.transform(x)"
   ]
  },
  {
   "cell_type": "code",
   "execution_count": null,
   "metadata": {},
   "outputs": [],
   "source": [
    "auc_regression=LinearRegression().fit(X=x_scaled,y=y_auc)\n",
    "aucpr_regression=LinearRegression().fit(X=x_scaled,y=y_aucpr)"
   ]
  },
  {
   "cell_type": "markdown",
   "metadata": {},
   "source": [
    "## Bootstrapping Experiments"
   ]
  },
  {
   "cell_type": "code",
   "execution_count": null,
   "metadata": {},
   "outputs": [],
   "source": [
    "car_bootstrap=pd.read_csv(\"boostrap_characteristics/car.csv\")\n",
    "credit_card_bootstrap=pd.read_csv(\"boostrap_characteristics/credit_card.csv\")\n",
    "home_improvement_bootstrap=pd.read_csv(\"boostrap_characteristics/home_improvement.csv\")\n",
    "house_bootstrap=pd.read_csv(\"boostrap_characteristics/house.csv\")\n",
    "major_purchase_bootstrap=pd.read_csv(\"boostrap_characteristics/major_purchase.csv\")\n",
    "medical_bootstrap=pd.read_csv(\"boostrap_characteristics/medical.csv\")\n",
    "moving_bootstrap=pd.read_csv(\"boostrap_characteristics/moving.csv\")\n",
    "other_bootstrap=pd.read_csv(\"boostrap_characteristics/other.csv\")\n",
    "renewable_energy_bootstrap=pd.read_csv(\"boostrap_characteristics/renewable_energy.csv\")\n",
    "small_business_bootstrap=pd.read_csv(\"boostrap_characteristics/small_business.csv\")\n",
    "vacation_bootstrap=pd.read_csv(\"boostrap_characteristics/vacation.csv\")\n",
    "wedding_bootstrap=pd.read_csv(\"boostrap_characteristics/wedding.csv\")\n",
    "bootstrap_data=pd.concat([car_bootstrap,credit_card_bootstrap,home_improvement_bootstrap,\n",
    "house_bootstrap,major_purchase_bootstrap,medical_bootstrap,moving_bootstrap,other_bootstrap,\n",
    "renewable_energy_bootstrap,small_business_bootstrap,vacation_bootstrap,wedding_bootstrap])\n",
    "bootstrap_data=bootstrap_data.reset_index(drop=True)\n",
    "bootstrap_data"
   ]
  },
  {
   "cell_type": "code",
   "execution_count": null,
   "metadata": {},
   "outputs": [],
   "source": [
    "bootstrap_data[\"auc_tl_best\"]=bootstrap_data.apply(lambda x: max(x[\"auc_tl_no_update\"],x[\"auc_tl_update\"]),axis=1)\n",
    "bootstrap_data[\"aucpr_tl_best\"]=bootstrap_data.apply(lambda x: max(x[\"aucpr_tl_no_update\"],x[\"aucpr_tl_update\"]),axis=1)\n",
    "bootstrap_data"
   ]
  },
  {
   "cell_type": "code",
   "execution_count": null,
   "metadata": {},
   "outputs": [],
   "source": [
    "bootstrap_data[\"auc_percent_lift\"]=((bootstrap_data[\"auc_tl_best\"]-0.5)/(bootstrap_data[\"auc_no_tl\"]-0.5))-1\n",
    "bootstrap_data[\"aucpr_percent_lift\"]=(bootstrap_data[\"aucpr_tl_best\"]/bootstrap_data[\"aucpr_no_tl\"])-1\n",
    "bootstrap_data[\"auc_percent_lift\"]=bootstrap_data[\"auc_percent_lift\"]*100\n",
    "bootstrap_data[\"aucpr_percent_lift\"]=bootstrap_data[\"aucpr_percent_lift\"]*100\n",
    "bootstrap_data"
   ]
  },
  {
   "cell_type": "code",
   "execution_count": null,
   "metadata": {},
   "outputs": [],
   "source": [
    "bootstrap_data[\"auc_nominal_lift\"]=bootstrap_data[\"auc_tl_best\"]-bootstrap_data[\"auc_no_tl\"]\n",
    "bootstrap_data[\"aucpr_nominal_lift\"]=bootstrap_data[\"aucpr_tl_best\"]-bootstrap_data[\"aucpr_no_tl\"]"
   ]
  },
  {
   "cell_type": "code",
   "execution_count": null,
   "metadata": {},
   "outputs": [],
   "source": [
    "bootstrap_data.columns"
   ]
  },
  {
   "cell_type": "code",
   "execution_count": null,
   "metadata": {},
   "outputs": [],
   "source": [
    "#y|x cosine similarity vs auc\n",
    "plt.style.use(\"fivethirtyeight\")\n",
    "plt.figure(figsize=(10, 5))\n",
    "plt.scatter(bootstrap_data[\"y|x_cosine_similarity\"],bootstrap_data[\"auc_percent_lift\"],marker='o',color='b',linestyle='-')\n",
    "m, b = np.polyfit(bootstrap_data[\"y|x_cosine_similarity\"], bootstrap_data[\"auc_percent_lift\"], 1)\n",
    "plt.plot(bootstrap_data[\"y|x_cosine_similarity\"], m*bootstrap_data[\"y|x_cosine_similarity\"]+b)\n",
    "plt.xlabel(\"Cosine Similarity\")\n",
    "plt.ylabel(\"AUC Percent Lift\")\n",
    "plt.title('AUC Percent Lift vs Cosine Similarity Y|X Regression Coefficients by Best TL Model')\n",
    "plt.show()"
   ]
  },
  {
   "cell_type": "code",
   "execution_count": null,
   "metadata": {},
   "outputs": [],
   "source": [
    "my_rho = np.corrcoef(bootstrap_data[\"y|x_cosine_similarity\"],bootstrap_data[\"auc_percent_lift\"])\n",
    "my_rho"
   ]
  },
  {
   "cell_type": "code",
   "execution_count": null,
   "metadata": {},
   "outputs": [],
   "source": [
    "#y|x cosine similarity vs aucpr\n",
    "plt.style.use(\"fivethirtyeight\")\n",
    "plt.figure(figsize=(10, 5))\n",
    "plt.scatter(bootstrap_data[\"y|x_cosine_similarity\"],bootstrap_data[\"aucpr_percent_lift\"],marker='o',color='b',linestyle='-')\n",
    "m, b = np.polyfit(bootstrap_data[\"y|x_cosine_similarity\"], bootstrap_data[\"aucpr_percent_lift\"], 1)\n",
    "plt.plot(bootstrap_data[\"y|x_cosine_similarity\"], m*bootstrap_data[\"y|x_cosine_similarity\"]+b)\n",
    "plt.xlabel(\"Cosine Similarity\")\n",
    "plt.ylabel(\"AUCPR Percent Lift\")\n",
    "plt.title('AUCPR Percent Lift vs Cosine Similarity Y|X Regression Coefficients by Best TL Model')\n",
    "plt.show()"
   ]
  },
  {
   "cell_type": "code",
   "execution_count": null,
   "metadata": {},
   "outputs": [],
   "source": [
    "my_rho = np.corrcoef(bootstrap_data[\"y|x_cosine_similarity\"],bootstrap_data[\"aucpr_percent_lift\"])\n",
    "my_rho"
   ]
  },
  {
   "cell_type": "code",
   "execution_count": null,
   "metadata": {},
   "outputs": [],
   "source": [
    "#x kl divergence vs auc\n",
    "plt.style.use(\"fivethirtyeight\")\n",
    "plt.figure(figsize=(10, 5))\n",
    "plt.scatter(bootstrap_data[\"x_dist_kl_divergence\"],bootstrap_data[\"auc_percent_lift\"],marker='o',color='b',linestyle='-')\n",
    "m, b = np.polyfit(bootstrap_data[\"x_dist_kl_divergence\"], bootstrap_data[\"auc_percent_lift\"], 1)\n",
    "plt.plot(bootstrap_data[\"x_dist_kl_divergence\"], m*bootstrap_data[\"x_dist_kl_divergence\"]+b)\n",
    "plt.xlabel(\"KL Divergence\")\n",
    "plt.ylabel(\"AUC Percent Lift\")\n",
    "plt.title('AUC Percent Lift vs KL Divergence on X Distribution by Best TL Model')\n",
    "plt.show()"
   ]
  },
  {
   "cell_type": "code",
   "execution_count": null,
   "metadata": {},
   "outputs": [],
   "source": [
    "my_rho = np.corrcoef(bootstrap_data[\"x_dist_kl_divergence\"],bootstrap_data[\"auc_percent_lift\"])\n",
    "my_rho"
   ]
  },
  {
   "cell_type": "code",
   "execution_count": null,
   "metadata": {},
   "outputs": [],
   "source": [
    "my_rho_2=np.corrcoef(bootstrap_data[\"x_dist_kl_divergence\"].loc[bootstrap_data[\"x_dist_kl_divergence\"]<2],bootstrap_data[\"auc_percent_lift\"].loc[bootstrap_data[\"x_dist_kl_divergence\"]<2])\n",
    "my_rho_2"
   ]
  },
  {
   "cell_type": "code",
   "execution_count": null,
   "metadata": {},
   "outputs": [],
   "source": [
    "my_rho_2=np.corrcoef(bootstrap_data[\"x_dist_kl_divergence\"].loc[bootstrap_data[\"x_dist_kl_divergence\"]<2],bootstrap_data[\"auc_percent_lift\"].loc[bootstrap_data[\"x_dist_kl_divergence\"]<2])\n",
    "my_rho_2"
   ]
  },
  {
   "cell_type": "code",
   "execution_count": null,
   "metadata": {},
   "outputs": [],
   "source": [
    "#x kl divergence vs aucpr\n",
    "plt.style.use(\"fivethirtyeight\")\n",
    "plt.figure(figsize=(10, 5))\n",
    "plt.scatter(bootstrap_data[\"x_dist_kl_divergence\"],bootstrap_data[\"aucpr_percent_lift\"],marker='o',color='b',linestyle='-')\n",
    "m, b = np.polyfit(bootstrap_data[\"x_dist_kl_divergence\"],bootstrap_data[\"aucpr_percent_lift\"], 1)\n",
    "plt.plot(bootstrap_data[\"x_dist_kl_divergence\"], m*bootstrap_data[\"x_dist_kl_divergence\"]+b)\n",
    "plt.xlabel(\"KL Divergence\")\n",
    "plt.ylabel(\"AUCPR Percent Lift\")\n",
    "plt.title('AUCPR Percent Lift vs KL Divergence on X Distribution by Best TL Model')\n",
    "plt.show()"
   ]
  },
  {
   "cell_type": "code",
   "execution_count": null,
   "metadata": {},
   "outputs": [],
   "source": [
    "my_rho = np.corrcoef(bootstrap_data[\"x_dist_kl_divergence\"],bootstrap_data[\"aucpr_percent_lift\"])\n",
    "my_rho"
   ]
  },
  {
   "cell_type": "code",
   "execution_count": null,
   "metadata": {},
   "outputs": [],
   "source": [
    "my_rho_2 = np.corrcoef(bootstrap_data[\"x_dist_kl_divergence\"].loc[abs(bootstrap_data[\"aucpr_percent_lift\"])<20],bootstrap_data[\"aucpr_percent_lift\"].loc[abs(bootstrap_data[\"aucpr_percent_lift\"])<20])\n",
    "my_rho_2"
   ]
  },
  {
   "cell_type": "code",
   "execution_count": null,
   "metadata": {},
   "outputs": [],
   "source": [
    "#x kl divergence vs aucpr\n",
    "plt.style.use(\"fivethirtyeight\")\n",
    "plt.figure(figsize=(10, 5))\n",
    "plt.scatter(bootstrap_data[\"x_dist_kl_divergence\"].loc[abs(bootstrap_data[\"aucpr_percent_lift\"])<20],bootstrap_data[\"aucpr_percent_lift\"].loc[abs(bootstrap_data[\"aucpr_percent_lift\"])<20],marker='o',color='b',linestyle='-')\n",
    "plt.xlabel(\"KL Divergence\")\n",
    "plt.ylabel(\"AUCPR Percent Lift without Extremes\")\n",
    "plt.title('AUCPR Percent Lift vs KL Divergence on X Distribution by Best TL Model without Extreme Points')\n",
    "plt.show()"
   ]
  },
  {
   "cell_type": "code",
   "execution_count": null,
   "metadata": {},
   "outputs": [],
   "source": [
    "#y label drift vs auc\n",
    "plt.style.use(\"fivethirtyeight\")\n",
    "plt.figure(figsize=(10, 5))\n",
    "plt.scatter(bootstrap_data[\"0/1_ratio_abs_divergence\"],bootstrap_data[\"auc_percent_lift\"],marker='o',color='b',linestyle='-')\n",
    "m, b = np.polyfit(bootstrap_data[\"0/1_ratio_abs_divergence\"],bootstrap_data[\"auc_percent_lift\"], 1)\n",
    "plt.plot(bootstrap_data[\"0/1_ratio_abs_divergence\"], m*bootstrap_data[\"0/1_ratio_abs_divergence\"]+b)\n",
    "plt.xlabel(\"Label Drift\")\n",
    "plt.ylabel(\"AUC Percent Lift\")\n",
    "plt.title('AUC Percent Lift vs Label Drift by Best TL Model')\n",
    "plt.show()"
   ]
  },
  {
   "cell_type": "code",
   "execution_count": null,
   "metadata": {},
   "outputs": [],
   "source": [
    "my_rho = np.corrcoef(bootstrap_data[\"0/1_ratio_abs_divergence\"],bootstrap_data[\"auc_percent_lift\"])\n",
    "my_rho"
   ]
  },
  {
   "cell_type": "code",
   "execution_count": null,
   "metadata": {},
   "outputs": [],
   "source": [
    "#y label drift vs aucpr\n",
    "plt.style.use(\"fivethirtyeight\")\n",
    "plt.figure(figsize=(10, 5))\n",
    "plt.scatter(bootstrap_data[\"0/1_ratio_abs_divergence\"],bootstrap_data[\"aucpr_percent_lift\"],marker='o',color='b',linestyle='-')\n",
    "m, b = np.polyfit(bootstrap_data[\"0/1_ratio_abs_divergence\"],bootstrap_data[\"aucpr_percent_lift\"], 1)\n",
    "plt.plot(bootstrap_data[\"0/1_ratio_abs_divergence\"], m*bootstrap_data[\"0/1_ratio_abs_divergence\"]+b)\n",
    "plt.xlabel(\"Label Drift\")\n",
    "plt.ylabel(\"AUCPR Percent Lift\")\n",
    "plt.title('AUCPR Percent Lift vs Label Drift by Best TL Model')\n",
    "plt.show()"
   ]
  },
  {
   "cell_type": "code",
   "execution_count": null,
   "metadata": {},
   "outputs": [],
   "source": [
    "my_rho = np.corrcoef(bootstrap_data[\"0/1_ratio_abs_divergence\"],bootstrap_data[\"aucpr_percent_lift\"])\n",
    "my_rho"
   ]
  },
  {
   "cell_type": "code",
   "execution_count": null,
   "metadata": {},
   "outputs": [],
   "source": [
    "#nrow vs auc lift\n",
    "plt.style.use(\"fivethirtyeight\")\n",
    "plt.figure(figsize=(10, 5))\n",
    "plt.scatter(bootstrap_data[\"nrow\"],bootstrap_data[\"auc_percent_lift\"],marker='o',color='b',linestyle='-')\n",
    "m, b = np.polyfit(bootstrap_data[\"nrow\"],bootstrap_data[\"auc_percent_lift\"], 1)\n",
    "plt.plot(bootstrap_data[\"nrow\"], m*bootstrap_data[\"nrow\"]+b)\n",
    "plt.xlabel(\"Number of Observations\")\n",
    "plt.ylabel(\"AUC Percent Lift\")\n",
    "plt.title('AUC Percent Lift vs Number of Observations by Best TL Model')\n",
    "plt.show()"
   ]
  },
  {
   "cell_type": "code",
   "execution_count": null,
   "metadata": {},
   "outputs": [],
   "source": [
    "my_rho = np.corrcoef(bootstrap_data[\"nrow\"],bootstrap_data[\"auc_percent_lift\"])\n",
    "my_rho"
   ]
  },
  {
   "cell_type": "code",
   "execution_count": null,
   "metadata": {},
   "outputs": [],
   "source": [
    "#nrow vs aucpr lift\n",
    "plt.style.use(\"fivethirtyeight\")\n",
    "plt.figure(figsize=(10, 5))\n",
    "plt.scatter(bootstrap_data[\"nrow\"],bootstrap_data[\"aucpr_percent_lift\"],marker='o',color='b',linestyle='-')\n",
    "m, b = np.polyfit(bootstrap_data[\"nrow\"],bootstrap_data[\"aucpr_percent_lift\"], 1)\n",
    "plt.plot(bootstrap_data[\"nrow\"], m*bootstrap_data[\"nrow\"]+b)\n",
    "plt.xlabel(\"Number of Observations\")\n",
    "plt.ylabel(\"AUCPR Percent Lift\")\n",
    "plt.title('AUCPR Percent Lift vs Number of Observations by Best TL Model')\n",
    "plt.show()"
   ]
  },
  {
   "cell_type": "code",
   "execution_count": null,
   "metadata": {},
   "outputs": [],
   "source": [
    "my_rho = np.corrcoef(bootstrap_data[\"nrow\"],bootstrap_data[\"aucpr_percent_lift\"])\n",
    "my_rho"
   ]
  },
  {
   "cell_type": "markdown",
   "metadata": {},
   "source": [
    "#### Linear Regression"
   ]
  },
  {
   "cell_type": "code",
   "execution_count": null,
   "metadata": {},
   "outputs": [],
   "source": [
    "y_auc,x=bootstrap_data['auc_percent_lift'],bootstrap_data[[\"nrow\",\"0/1_ratio_abs_divergence\",\"x_dist_kl_divergence\",\"y|x_cosine_similarity\"]]\n",
    "y_aucpr=bootstrap_data['aucpr_percent_lift']"
   ]
  },
  {
   "cell_type": "code",
   "execution_count": null,
   "metadata": {},
   "outputs": [],
   "source": [
    "scaler = StandardScaler()\n",
    "scaler.fit(x)\n",
    "x_scaled=scaler.transform(x)\n",
    "auc_regression=LinearRegression().fit(x_scaled, y_auc)\n",
    "aucpr_regression=LinearRegression().fit(x_scaled, y_aucpr)"
   ]
  },
  {
   "cell_type": "code",
   "execution_count": null,
   "metadata": {},
   "outputs": [],
   "source": [
    "auc_regression.coef_"
   ]
  },
  {
   "cell_type": "code",
   "execution_count": null,
   "metadata": {},
   "outputs": [],
   "source": [
    "aucpr_regression.coef_"
   ]
  },
  {
   "cell_type": "code",
   "execution_count": null,
   "metadata": {},
   "outputs": [],
   "source": [
    "auc_regression.score(x_scaled,y_auc)\n",
    "#r-square"
   ]
  },
  {
   "cell_type": "code",
   "execution_count": null,
   "metadata": {},
   "outputs": [],
   "source": [
    "#r-square\n",
    "aucpr_regression.score(x_scaled,y_aucpr)"
   ]
  },
  {
   "cell_type": "code",
   "execution_count": null,
   "metadata": {},
   "outputs": [],
   "source": [
    "bootstrap_data.to_csv(\"final_results_df.csv\",index=False)"
   ]
  }
 ],
 "metadata": {
  "interpreter": {
   "hash": "2573e0d14c1182e6ab532e17c2db583fd4b314e4563ab3ceb8da5d965ab0d85e"
  },
  "kernelspec": {
   "display_name": "Python 3.8.12 ('transfer_learning')",
   "language": "python",
   "name": "python3"
  },
  "language_info": {
   "codemirror_mode": {
    "name": "ipython",
    "version": 3
   },
   "file_extension": ".py",
   "mimetype": "text/x-python",
   "name": "python",
   "nbconvert_exporter": "python",
   "pygments_lexer": "ipython3",
   "version": "3.8.12"
  },
  "orig_nbformat": 4
 },
 "nbformat": 4,
 "nbformat_minor": 2
}
