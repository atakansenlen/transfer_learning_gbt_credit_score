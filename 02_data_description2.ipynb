{
 "cells": [
  {
   "cell_type": "code",
   "execution_count": null,
   "metadata": {},
   "outputs": [],
   "source": [
    "import pandas as pd\n",
    "import numpy as np\n",
    "import seaborn as sns\n",
    "from scipy import stats \n",
    "import matplotlib.pyplot as plt\n",
    "import hvplot.pandas"
   ]
  },
  {
   "cell_type": "code",
   "execution_count": null,
   "metadata": {},
   "outputs": [],
   "source": [
    "data = pd.read_csv(r\"C:\\Users\\asenlen\\Desktop\\Projects\\tez\\modeller\\lending_club\\accepted_2007_to_2018Q4.csv\")\n",
    "data.head()"
   ]
  },
  {
   "cell_type": "code",
   "execution_count": null,
   "metadata": {},
   "outputs": [],
   "source": [
    "data.shape"
   ]
  },
  {
   "cell_type": "code",
   "execution_count": null,
   "metadata": {},
   "outputs": [],
   "source": [
    "data[\"loan_status\"].value_counts()"
   ]
  },
  {
   "cell_type": "code",
   "execution_count": null,
   "metadata": {},
   "outputs": [],
   "source": [
    "data[\"purpose\"].value_counts()"
   ]
  },
  {
   "cell_type": "code",
   "execution_count": null,
   "metadata": {},
   "outputs": [],
   "source": [
    "regression_data=pd.read_csv(r\"C:\\Users\\asenlen\\Desktop\\Projects\\tez\\modeller\\lending_club\\regression_data.csv\")\n",
    "regression_data.isnull().sum()\n",
    "regression_data.notnull().shape"
   ]
  },
  {
   "cell_type": "code",
   "execution_count": null,
   "metadata": {},
   "outputs": [],
   "source": [
    "regression_data['loan_status'],loan_uniques=pd.factorize(regression_data['loan_status'], sort=True)\n",
    "regression_data['loan_status']=1-regression_data['loan_status'].astype(\"int\")\n",
    "regression_data['loan_status'].value_counts()"
   ]
  },
  {
   "cell_type": "code",
   "execution_count": null,
   "metadata": {},
   "outputs": [],
   "source": [
    "1049361/(1049361+262946)"
   ]
  },
  {
   "cell_type": "code",
   "execution_count": null,
   "metadata": {},
   "outputs": [],
   "source": [
    "plt.figure(figsize=(40, 60))\n",
    "plt.subplots_adjust(left=0.1,\n",
    "                    bottom=0.1, \n",
    "                    right=0.4, \n",
    "                    top=0.9, \n",
    "                    wspace=0.4, \n",
    "                    hspace=0.4)\n",
    "#plt.xlabel(matplotlib.pyplot.text(0,0,'mort_acc'), fontsize=16, horizontalalignment='left',multialignment='left')\n",
    "for index,purpose in enumerate(regression_data['purpose'].unique()):  \n",
    "    plt.subplot(16, 3, index+1)\n",
    "    sns.countplot(x='loan_status', data=regression_data[regression_data['purpose']==purpose], hue='loan_status').tick_params(labelsize=12)\n",
    "    plt.title(f'{purpose}',fontsize=20)\n",
    "    plt.ylabel(\"count\",fontsize=16)\n",
    "    plt.xlabel(\"loan_status\",fontsize=16)\n",
    "plt.show()"
   ]
  }
 ],
 "metadata": {
  "interpreter": {
   "hash": "2573e0d14c1182e6ab532e17c2db583fd4b314e4563ab3ceb8da5d965ab0d85e"
  },
  "kernelspec": {
   "display_name": "Python 3.8.12 ('transfer_learning')",
   "language": "python",
   "name": "python3"
  },
  "language_info": {
   "codemirror_mode": {
    "name": "ipython",
    "version": 3
   },
   "file_extension": ".py",
   "mimetype": "text/x-python",
   "name": "python",
   "nbconvert_exporter": "python",
   "pygments_lexer": "ipython3",
   "version": "3.8.12"
  },
  "orig_nbformat": 4
 },
 "nbformat": 4,
 "nbformat_minor": 2
}
